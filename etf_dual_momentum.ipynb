{
 "metadata": {
  "language_info": {
   "codemirror_mode": {
    "name": "ipython",
    "version": 3
   },
   "file_extension": ".py",
   "mimetype": "text/x-python",
   "name": "python",
   "nbconvert_exporter": "python",
   "pygments_lexer": "ipython3",
   "version": "3.9.2"
  },
  "orig_nbformat": 2,
  "kernelspec": {
   "name": "python392jvsc74a57bd0aee8b7b246df8f9039afb4144a1f6fd8d2ca17a180786b69acc140d282b71a49",
   "display_name": "Python 3.9.2 64-bit"
  },
  "metadata": {
   "interpreter": {
    "hash": "aee8b7b246df8f9039afb4144a1f6fd8d2ca17a180786b69acc140d282b71a49"
   }
  }
 },
 "nbformat": 4,
 "nbformat_minor": 2,
 "cells": [
  {
   "cell_type": "code",
   "execution_count": null,
   "metadata": {},
   "outputs": [],
   "source": [
    "import os\n",
    "import pandas as pd\n",
    "import time\n",
    "from pykrx import stock\n",
    "import matplotlib.pyplot as plt\n",
    "from datetime import datetime, timedelta\n",
    "import numpy as np\n",
    "from IPython.display import display\n",
    "import math\n"
   ]
  },
  {
   "cell_type": "code",
   "execution_count": 2,
   "metadata": {},
   "outputs": [],
   "source": [
    "pd.set_option('display.max_row', 50000)\n",
    "pd.set_option('display.max_columns', 100)\n"
   ]
  },
  {
   "cell_type": "code",
   "execution_count": 256,
   "metadata": {},
   "outputs": [
    {
     "output_type": "execute_result",
     "data": {
      "text/plain": [
       "                NAV    시가    고가    저가    종가      거래량         거래대금   기초지수  \\\n",
       "날짜                                                                         \n",
       "2002-10-14  7727.89  7800  8000  7590  7750  2577230  19915990000  77.27   \n",
       "2002-10-15  7921.53  7850  7980  7700  7940  2288769  17893721760  79.21   \n",
       "2002-10-16  8010.07  8040  8040  7910  7970  2039150  16269042600  80.10   \n",
       "2002-10-17  8118.38  7980  8180  7870  8080  2091777  16837927960  81.16   \n",
       "2002-10-18  8456.22  8300  8500  8250  8430  1321300  11076949000  84.50   \n",
       "\n",
       "            1개월수익률  2개월수익률  3개월수익률  4개월수익률  5개월수익률  6개월수익률  7개월수익률  8개월수익률  \\\n",
       "날짜                                                                           \n",
       "2002-10-14     NaN     NaN     NaN     NaN     NaN     NaN     NaN     NaN   \n",
       "2002-10-15     NaN     NaN     NaN     NaN     NaN     NaN     NaN     NaN   \n",
       "2002-10-16     NaN     NaN     NaN     NaN     NaN     NaN     NaN     NaN   \n",
       "2002-10-17     NaN     NaN     NaN     NaN     NaN     NaN     NaN     NaN   \n",
       "2002-10-18     NaN     NaN     NaN     NaN     NaN     NaN     NaN     NaN   \n",
       "\n",
       "            9개월수익률  10개월수익률  11개월수익률  12개월수익률  \n",
       "날짜                                             \n",
       "2002-10-14     NaN      NaN      NaN      NaN  \n",
       "2002-10-15     NaN      NaN      NaN      NaN  \n",
       "2002-10-16     NaN      NaN      NaN      NaN  \n",
       "2002-10-17     NaN      NaN      NaN      NaN  \n",
       "2002-10-18     NaN      NaN      NaN      NaN  "
      ],
      "text/html": "<div>\n<style scoped>\n    .dataframe tbody tr th:only-of-type {\n        vertical-align: middle;\n    }\n\n    .dataframe tbody tr th {\n        vertical-align: top;\n    }\n\n    .dataframe thead th {\n        text-align: right;\n    }\n</style>\n<table border=\"1\" class=\"dataframe\">\n  <thead>\n    <tr style=\"text-align: right;\">\n      <th></th>\n      <th>NAV</th>\n      <th>시가</th>\n      <th>고가</th>\n      <th>저가</th>\n      <th>종가</th>\n      <th>거래량</th>\n      <th>거래대금</th>\n      <th>기초지수</th>\n      <th>1개월수익률</th>\n      <th>2개월수익률</th>\n      <th>3개월수익률</th>\n      <th>4개월수익률</th>\n      <th>5개월수익률</th>\n      <th>6개월수익률</th>\n      <th>7개월수익률</th>\n      <th>8개월수익률</th>\n      <th>9개월수익률</th>\n      <th>10개월수익률</th>\n      <th>11개월수익률</th>\n      <th>12개월수익률</th>\n    </tr>\n    <tr>\n      <th>날짜</th>\n      <th></th>\n      <th></th>\n      <th></th>\n      <th></th>\n      <th></th>\n      <th></th>\n      <th></th>\n      <th></th>\n      <th></th>\n      <th></th>\n      <th></th>\n      <th></th>\n      <th></th>\n      <th></th>\n      <th></th>\n      <th></th>\n      <th></th>\n      <th></th>\n      <th></th>\n      <th></th>\n    </tr>\n  </thead>\n  <tbody>\n    <tr>\n      <th>2002-10-14</th>\n      <td>7727.89</td>\n      <td>7800</td>\n      <td>8000</td>\n      <td>7590</td>\n      <td>7750</td>\n      <td>2577230</td>\n      <td>19915990000</td>\n      <td>77.27</td>\n      <td>NaN</td>\n      <td>NaN</td>\n      <td>NaN</td>\n      <td>NaN</td>\n      <td>NaN</td>\n      <td>NaN</td>\n      <td>NaN</td>\n      <td>NaN</td>\n      <td>NaN</td>\n      <td>NaN</td>\n      <td>NaN</td>\n      <td>NaN</td>\n    </tr>\n    <tr>\n      <th>2002-10-15</th>\n      <td>7921.53</td>\n      <td>7850</td>\n      <td>7980</td>\n      <td>7700</td>\n      <td>7940</td>\n      <td>2288769</td>\n      <td>17893721760</td>\n      <td>79.21</td>\n      <td>NaN</td>\n      <td>NaN</td>\n      <td>NaN</td>\n      <td>NaN</td>\n      <td>NaN</td>\n      <td>NaN</td>\n      <td>NaN</td>\n      <td>NaN</td>\n      <td>NaN</td>\n      <td>NaN</td>\n      <td>NaN</td>\n      <td>NaN</td>\n    </tr>\n    <tr>\n      <th>2002-10-16</th>\n      <td>8010.07</td>\n      <td>8040</td>\n      <td>8040</td>\n      <td>7910</td>\n      <td>7970</td>\n      <td>2039150</td>\n      <td>16269042600</td>\n      <td>80.10</td>\n      <td>NaN</td>\n      <td>NaN</td>\n      <td>NaN</td>\n      <td>NaN</td>\n      <td>NaN</td>\n      <td>NaN</td>\n      <td>NaN</td>\n      <td>NaN</td>\n      <td>NaN</td>\n      <td>NaN</td>\n      <td>NaN</td>\n      <td>NaN</td>\n    </tr>\n    <tr>\n      <th>2002-10-17</th>\n      <td>8118.38</td>\n      <td>7980</td>\n      <td>8180</td>\n      <td>7870</td>\n      <td>8080</td>\n      <td>2091777</td>\n      <td>16837927960</td>\n      <td>81.16</td>\n      <td>NaN</td>\n      <td>NaN</td>\n      <td>NaN</td>\n      <td>NaN</td>\n      <td>NaN</td>\n      <td>NaN</td>\n      <td>NaN</td>\n      <td>NaN</td>\n      <td>NaN</td>\n      <td>NaN</td>\n      <td>NaN</td>\n      <td>NaN</td>\n    </tr>\n    <tr>\n      <th>2002-10-18</th>\n      <td>8456.22</td>\n      <td>8300</td>\n      <td>8500</td>\n      <td>8250</td>\n      <td>8430</td>\n      <td>1321300</td>\n      <td>11076949000</td>\n      <td>84.50</td>\n      <td>NaN</td>\n      <td>NaN</td>\n      <td>NaN</td>\n      <td>NaN</td>\n      <td>NaN</td>\n      <td>NaN</td>\n      <td>NaN</td>\n      <td>NaN</td>\n      <td>NaN</td>\n      <td>NaN</td>\n      <td>NaN</td>\n      <td>NaN</td>\n    </tr>\n  </tbody>\n</table>\n</div>"
     },
     "metadata": {},
     "execution_count": 256
    }
   ],
   "source": [
    "# KODEX200 수익률\n",
    "# 비교 1 : 매수 -> 1달 후 매도, 다시 매수 반복\n",
    "# 비교 2: 시작일에 매수 후 쭉 보유\n",
    "\n",
    "# 비교1\n",
    "#df = stock.get_etf_ohlcv_by_date(start_date, end_date, \"069500\")\n",
    "df = getattr(mod, 'ETF_069500'.format(\"069500\"))\n",
    "df.head()\n",
    "\n"
   ]
  },
  {
   "cell_type": "code",
   "execution_count": 293,
   "metadata": {},
   "outputs": [
    {
     "output_type": "execute_result",
     "data": {
      "text/plain": [
       "Timestamp('2021-04-02 00:00:00')"
      ]
     },
     "metadata": {},
     "execution_count": 293
    }
   ],
   "source": [
    "df.iloc[-1].name\n",
    " #df = getattr(mod,  'ETF_{}'.format(ticker))"
   ]
  },
  {
   "cell_type": "code",
   "execution_count": 15,
   "metadata": {},
   "outputs": [
    {
     "output_type": "execute_result",
     "data": {
      "text/plain": [
       "[datetime.datetime(2016, 1, 4, 0, 0),\n",
       " datetime.datetime(2016, 2, 3, 0, 0),\n",
       " datetime.datetime(2016, 3, 4, 0, 0),\n",
       " datetime.datetime(2016, 4, 4, 0, 0),\n",
       " datetime.datetime(2016, 5, 4, 0, 0),\n",
       " datetime.datetime(2016, 6, 3, 0, 0),\n",
       " datetime.datetime(2016, 7, 4, 0, 0),\n",
       " datetime.datetime(2016, 8, 3, 0, 0),\n",
       " datetime.datetime(2016, 9, 2, 0, 0),\n",
       " datetime.datetime(2016, 10, 4, 0, 0),\n",
       " datetime.datetime(2016, 11, 3, 0, 0),\n",
       " datetime.datetime(2016, 12, 5, 0, 0),\n",
       " datetime.datetime(2017, 1, 4, 0, 0),\n",
       " datetime.datetime(2017, 2, 3, 0, 0)]"
      ]
     },
     "metadata": {},
     "execution_count": 15
    }
   ],
   "source": [
    "start_date_str = \"2016-01-01\"\n",
    "end_date_str = \"2017-02-28\"\n",
    "start_date = datetime.strptime(start_date_str,'%Y-%m-%d')\n",
    "end_date = datetime.strptime(end_date_str,'%Y-%m-%d')\n",
    "\n",
    "opening_list = getOpenDateList(start_date, end_date, 30)\n",
    "opening_list"
   ]
  },
  {
   "cell_type": "code",
   "execution_count": null,
   "metadata": {},
   "outputs": [],
   "source": [
    "df"
   ]
  },
  {
   "cell_type": "code",
   "execution_count": 363,
   "metadata": {},
   "outputs": [
    {
     "output_type": "stream",
     "name": "stdout",
     "text": [
      "2002-10-14 00:00:00\n",
      "2003-09-02 00:00:00 10000000 수익률: 72.03746696774196 %\n",
      "2004-08-24 00:00:00 17203746.696774196 수익률: 2.749490835030577 %\n",
      "2005-08-10 00:00:00 17676762.13548388 수익률: 41.0307234886026 %\n",
      "2006-07-27 00:00:00 24929665.529032275 수익률: 19.676739283204505 %\n",
      "2007-07-16 00:00:00 29835010.81935486 수익률: 46.74104521432767 %\n",
      "2008-07-10 00:00:00 43780206.716129065 수익률: -20.948379351740687 %\n",
      "2009-06-25 00:00:00 34608962.93225809 수익률: -9.111617312072884 %\n",
      "2010-06-09 00:00:00 31455526.674193576 수익률: 20.52353104984683 %\n",
      "2011-05-25 00:00:00 37911311.45806455 수익률: 25.069316081330896 %\n",
      "2012-05-10 00:00:00 47415417.95806456 수익률: -4.138185848882337 %\n",
      "2013-04-26 00:00:00 45453279.84193552 수익률: -1.5802659471960023 %\n",
      "2014-04-17 00:00:00 44734997.13870971 수익률: 2.3888780105737473 %\n",
      "2015-04-13 00:00:00 45803661.64838714 수익률: 1.5299292407726206 %\n",
      "2016-04-01 00:00:00 46504425.26129037 수익률: -7.3271802599359726 %\n",
      "2017-03-22 00:00:00 43096962.193548426 수익률: 16.42276422764224 %\n",
      "2018-03-19 00:00:00 50174674.683871 수익률: 13.163407821229045 %\n",
      "2019-03-14 00:00:00 56779371.73548391 수익률: -13.32921937673559 %\n",
      "2020-03-03 00:00:00 49211124.71612906 수익률: -1.8333926664293454 %\n",
      "2021-02-22 00:00:00 48308891.56451615 수익률: 53.508612873980034 %\n"
     ]
    },
    {
     "output_type": "execute_result",
     "data": {
      "text/plain": [
       "    start_date             end_date     profit        invest\n",
       "0          NaN  2002-10-14 00:00:00        NaN  1.000000e+07\n",
       "1          0.0  2003-09-02 00:00:00  72.037467  1.720375e+07\n",
       "2          0.0  2004-08-24 00:00:00   2.749491  1.767676e+07\n",
       "3          0.0  2005-08-10 00:00:00  41.030723  2.492967e+07\n",
       "4          0.0  2006-07-27 00:00:00  19.676739  2.983501e+07\n",
       "5          0.0  2007-07-16 00:00:00  46.741045  4.378021e+07\n",
       "6          0.0  2008-07-10 00:00:00 -20.948379  3.460896e+07\n",
       "7          0.0  2009-06-25 00:00:00  -9.111617  3.145553e+07\n",
       "8          0.0  2010-06-09 00:00:00  20.523531  3.791131e+07\n",
       "9          0.0  2011-05-25 00:00:00  25.069316  4.741542e+07\n",
       "10         0.0  2012-05-10 00:00:00  -4.138186  4.545328e+07\n",
       "11         0.0  2013-04-26 00:00:00  -1.580266  4.473500e+07\n",
       "12         0.0  2014-04-17 00:00:00   2.388878  4.580366e+07\n",
       "13         0.0  2015-04-13 00:00:00   1.529929  4.650443e+07\n",
       "14         0.0  2016-04-01 00:00:00  -7.327180  4.309696e+07\n",
       "15         0.0  2017-03-22 00:00:00  16.422764  5.017467e+07\n",
       "16         0.0  2018-03-19 00:00:00  13.163408  5.677937e+07\n",
       "17         0.0  2019-03-14 00:00:00 -13.329219  4.921112e+07\n",
       "18         0.0  2020-03-03 00:00:00  -1.833393  4.830889e+07\n",
       "19         0.0  2021-02-22 00:00:00  53.508613  7.415831e+07"
      ],
      "text/html": "<div>\n<style scoped>\n    .dataframe tbody tr th:only-of-type {\n        vertical-align: middle;\n    }\n\n    .dataframe tbody tr th {\n        vertical-align: top;\n    }\n\n    .dataframe thead th {\n        text-align: right;\n    }\n</style>\n<table border=\"1\" class=\"dataframe\">\n  <thead>\n    <tr style=\"text-align: right;\">\n      <th></th>\n      <th>start_date</th>\n      <th>end_date</th>\n      <th>profit</th>\n      <th>invest</th>\n    </tr>\n  </thead>\n  <tbody>\n    <tr>\n      <th>0</th>\n      <td>NaN</td>\n      <td>2002-10-14 00:00:00</td>\n      <td>NaN</td>\n      <td>1.000000e+07</td>\n    </tr>\n    <tr>\n      <th>1</th>\n      <td>0.0</td>\n      <td>2003-09-02 00:00:00</td>\n      <td>72.037467</td>\n      <td>1.720375e+07</td>\n    </tr>\n    <tr>\n      <th>2</th>\n      <td>0.0</td>\n      <td>2004-08-24 00:00:00</td>\n      <td>2.749491</td>\n      <td>1.767676e+07</td>\n    </tr>\n    <tr>\n      <th>3</th>\n      <td>0.0</td>\n      <td>2005-08-10 00:00:00</td>\n      <td>41.030723</td>\n      <td>2.492967e+07</td>\n    </tr>\n    <tr>\n      <th>4</th>\n      <td>0.0</td>\n      <td>2006-07-27 00:00:00</td>\n      <td>19.676739</td>\n      <td>2.983501e+07</td>\n    </tr>\n    <tr>\n      <th>5</th>\n      <td>0.0</td>\n      <td>2007-07-16 00:00:00</td>\n      <td>46.741045</td>\n      <td>4.378021e+07</td>\n    </tr>\n    <tr>\n      <th>6</th>\n      <td>0.0</td>\n      <td>2008-07-10 00:00:00</td>\n      <td>-20.948379</td>\n      <td>3.460896e+07</td>\n    </tr>\n    <tr>\n      <th>7</th>\n      <td>0.0</td>\n      <td>2009-06-25 00:00:00</td>\n      <td>-9.111617</td>\n      <td>3.145553e+07</td>\n    </tr>\n    <tr>\n      <th>8</th>\n      <td>0.0</td>\n      <td>2010-06-09 00:00:00</td>\n      <td>20.523531</td>\n      <td>3.791131e+07</td>\n    </tr>\n    <tr>\n      <th>9</th>\n      <td>0.0</td>\n      <td>2011-05-25 00:00:00</td>\n      <td>25.069316</td>\n      <td>4.741542e+07</td>\n    </tr>\n    <tr>\n      <th>10</th>\n      <td>0.0</td>\n      <td>2012-05-10 00:00:00</td>\n      <td>-4.138186</td>\n      <td>4.545328e+07</td>\n    </tr>\n    <tr>\n      <th>11</th>\n      <td>0.0</td>\n      <td>2013-04-26 00:00:00</td>\n      <td>-1.580266</td>\n      <td>4.473500e+07</td>\n    </tr>\n    <tr>\n      <th>12</th>\n      <td>0.0</td>\n      <td>2014-04-17 00:00:00</td>\n      <td>2.388878</td>\n      <td>4.580366e+07</td>\n    </tr>\n    <tr>\n      <th>13</th>\n      <td>0.0</td>\n      <td>2015-04-13 00:00:00</td>\n      <td>1.529929</td>\n      <td>4.650443e+07</td>\n    </tr>\n    <tr>\n      <th>14</th>\n      <td>0.0</td>\n      <td>2016-04-01 00:00:00</td>\n      <td>-7.327180</td>\n      <td>4.309696e+07</td>\n    </tr>\n    <tr>\n      <th>15</th>\n      <td>0.0</td>\n      <td>2017-03-22 00:00:00</td>\n      <td>16.422764</td>\n      <td>5.017467e+07</td>\n    </tr>\n    <tr>\n      <th>16</th>\n      <td>0.0</td>\n      <td>2018-03-19 00:00:00</td>\n      <td>13.163408</td>\n      <td>5.677937e+07</td>\n    </tr>\n    <tr>\n      <th>17</th>\n      <td>0.0</td>\n      <td>2019-03-14 00:00:00</td>\n      <td>-13.329219</td>\n      <td>4.921112e+07</td>\n    </tr>\n    <tr>\n      <th>18</th>\n      <td>0.0</td>\n      <td>2020-03-03 00:00:00</td>\n      <td>-1.833393</td>\n      <td>4.830889e+07</td>\n    </tr>\n    <tr>\n      <th>19</th>\n      <td>0.0</td>\n      <td>2021-02-22 00:00:00</td>\n      <td>53.508613</td>\n      <td>7.415831e+07</td>\n    </tr>\n  </tbody>\n</table>\n</div>"
     },
     "metadata": {},
     "execution_count": 363
    }
   ],
   "source": [
    "\n",
    "\n",
    "dualMnt.myKodex200Profit"
   ]
  },
  {
   "cell_type": "code",
   "execution_count": 357,
   "metadata": {},
   "outputs": [
    {
     "output_type": "execute_result",
     "data": {
      "text/plain": [
       "   start_date end_date  profit      invest\n",
       "0         NaN       aa     NaN  10000000.0"
      ],
      "text/html": "<div>\n<style scoped>\n    .dataframe tbody tr th:only-of-type {\n        vertical-align: middle;\n    }\n\n    .dataframe tbody tr th {\n        vertical-align: top;\n    }\n\n    .dataframe thead th {\n        text-align: right;\n    }\n</style>\n<table border=\"1\" class=\"dataframe\">\n  <thead>\n    <tr style=\"text-align: right;\">\n      <th></th>\n      <th>start_date</th>\n      <th>end_date</th>\n      <th>profit</th>\n      <th>invest</th>\n    </tr>\n  </thead>\n  <tbody>\n    <tr>\n      <th>0</th>\n      <td>NaN</td>\n      <td>aa</td>\n      <td>NaN</td>\n      <td>10000000.0</td>\n    </tr>\n  </tbody>\n</table>\n</div>"
     },
     "metadata": {},
     "execution_count": 357
    }
   ],
   "source": [
    "dualMnt.myKodex200Profit.loc[0,'end_date'] = \"aa\"\n",
    "dualMnt.myKodex200Profit"
   ]
  },
  {
   "cell_type": "code",
   "execution_count": 375,
   "metadata": {},
   "outputs": [],
   "source": [
    "mod = sys.modules[__name__]\n",
    "\n",
    "def loadEFT(path):\n",
    "    file_list = os.listdir(path)\n",
    "\n",
    "    for file in file_list:\n",
    "    # 데이터 가져오기\n",
    "        if( len(file.split(\".\"))==1 or file.split(\".\")[1]!=\"xlsx\" or \"~!\" in file.split(\".\")[0]):\n",
    "            #print(file)\n",
    "            continue\n",
    "        ticker = file.split('.')[0]\n",
    "        globals()[f'ETF_{ticker}'] = pd.read_excel(f\"{path}/{file}\", index_col=0)\n",
    " \n",
    "    mod = sys.modules[__name__]\n",
    "\n",
    "class ETFDualMomentum:\n",
    "    path_dir = './ETF'\n",
    "    SELL = 1\n",
    "    BUY = 0\n",
    "\n",
    "    def __init__(self, invest, stock_get_num, target_mmt_mth, rebal_mth):\n",
    "        port_rows=[]\n",
    "        port_columns = ['ticker', 'name', 'buy_date', 'buy_price', 'buy_num', 'sell_date', 'sell_price', 'profit', 'sell']\n",
    "        profit_rows=[]\n",
    "        profit_columns = ['start_date', 'end_date', 'profit', \"invest\"]\n",
    "        profit_index=[]\n",
    "        \n",
    "        self.invest = self.INVEST = invest\n",
    "        self.stock_get_num = self.PORTPOLIO_NUMBER = stock_get_num\n",
    "        self.TARGET_MMT_MTH = target_mmt_mth\n",
    "        self.REBAL_MTH = rebal_mth\n",
    "        self.opening_date_list = []\n",
    "\n",
    "        self.myPort = pd.DataFrame(port_rows, columns=port_columns)\n",
    "        self.myProfit = pd.DataFrame(profit_rows, index=profit_index, columns=profit_columns)\n",
    "        self.myProfit = self.myProfit.append({'invest':self.INVEST}, ignore_index=True)\n",
    "        \n",
    "        self.myKodex200Profit = pd.DataFrame(profit_rows, index=profit_index, columns=profit_columns)\n",
    "        self.myKodex200Profit = self.myKodex200Profit.append({'invest':self.INVEST}, ignore_index=True)\n",
    "\n",
    "    def __del__(self):\n",
    "        pass\n",
    "\n",
    "    def kodex200_1mth_buy_sell(self):\n",
    "        row = []\n",
    "        previous_buy_num = buy_num = last_year_invest = 0\n",
    "        ticker = \"069500\"\n",
    "        df = getattr(mod, 'ETF_{}'.format(ticker))\n",
    "        \n",
    "        self.myKodex200Profit.loc[0, 'end_date'] = df.iloc[0].name\n",
    "\n",
    "        for i in range(int(len(df)/20)+1):\n",
    "            #if(i==0):\n",
    "                #print(f\"{df.iloc[i*20].name}\")\n",
    "\n",
    "            if(previous_buy_num > 0): # 이전 달에 매수한 갯수가 있으면 \n",
    "                #전부 매도\n",
    "                self.invest = self.invest + previous_buy_num * df.iloc[i*20]['종가']\n",
    "                #print(f\"{df.iloc[i*20].name}에 {df.iloc[i*20]['종가']}로 매도 : {self.invest}\")\n",
    "\n",
    "                #print(f\"1달 후 투지금: {self.invest}\")\n",
    "                if((i+1)%12==0): # 1년 \n",
    "                    if(i==11):\n",
    "                        last_year_invest = self.INVEST\n",
    "\n",
    "                    profit = (self.invest / last_year_invest-1)*100\n",
    "                    #print(f\"{df.iloc[i*20].name} {last_year_invest} 수익률: {profit} %\")\n",
    "                    self.myKodex200Profit = self.myKodex200Profit.append({'start_date': 0, 'end_date': df.iloc[i*20].name, 'profit': profit, 'invest': self.invest}, ignore_index=True)\n",
    "\n",
    "                    last_year_invest = self.invest\n",
    "                #다시 매수\n",
    "                buy_num = self.invest / df.iloc[i*20]['종가']\n",
    "                self.invest = self.invest - buy_num * df.iloc[i*20]['종가']\n",
    "\n",
    "                \n",
    "                #print(f\"{df.iloc[i*20].name}에 {df.iloc[i*20]['종가']}으로 {buy_num} 매수\")\n",
    "            else:\n",
    "                #처음\n",
    "                buy_num = self.invest / df.iloc[i*20]['종가']\n",
    "                self.invest = self.invest - buy_num * df.iloc[i*20]['종가']\n",
    "\n",
    "                #print(f\"{df.iloc[i*20].name}에 {df.iloc[i*20]['종가']}으로 {buy_num} 매수\")\n",
    "           \n",
    "            \n",
    "            previous_buy_num = buy_num # \n",
    "\n",
    "            \n",
    "                    # ['ticker', 'name', 'buy_date', 'buy_price', 'buy_num', 'sell_date', 'sell_price', 'profit', 'sell']\n",
    "        #rows.append([ticker, stock.get_etf_ticker_name(ticker), date, df.loc[date,'종가'] ,buy_num, df.loc[date, target_month_col], BUY])\n",
    "\n",
    "\n",
    "    def abs_momentum(self, current_date, before_date):\n",
    "        '''\n",
    "        '''\n",
    "        #print(f\"abs_momentum: {current_date}, {before_date}\")\n",
    "        \n",
    "\n",
    "        # myPort 종목을 \n",
    "        for idx, row in self.myPort.iterrows():\n",
    "\n",
    "            # 매수중인 종목만 체크\n",
    "            if(row[8]==SELL): # sell_date\n",
    "                continue\n",
    "\n",
    "            #print(idx, row[0], row[1])\n",
    "            #df = pd.read_excel(f\"{path_dir}/{row[0]}.xlsx\", index_col=0)\n",
    "            # data read \n",
    "            df = getattr(mod, 'ETF_{}'.format(row[0]))\n",
    "\n",
    "            # 기간 수익률\n",
    "            profit = (df.loc[current_date,'종가'] / df.loc[before_date,'종가'] -1) * 100#row[2]: buy_date\n",
    "            #print(df.loc[current_date,'종가'], df.loc[before_date,'종가'], \"profit \", profit)\n",
    "            \n",
    "            if( profit < 0): # 수익률이 마이너스\n",
    "                # 수익률이 마이너스 이므로, 매도\n",
    "                #print(f\"{row[0]}은 {profit}으로 {self.myPort.loc[idx,'buy_num']}개 매도, 종가: {df.loc[current_date,'종가']} {df.loc[before_date,'종가']}\")\n",
    "                self.myPort.loc[idx,'sell_date'] = current_date\n",
    "                self.myPort.loc[idx,'sell_price'] = df.loc[date,'종가']\n",
    "                self.myPort.loc[idx,'profit'] = self.myPort.loc[idx,'profit'] + profit\n",
    "                self.myPort.loc[idx,'sell'] = SELL\n",
    "                \n",
    "                ret = df.loc[current_date,'종가'] * self.myPort.loc[idx,'buy_num']\n",
    "                self.invest = self.invest + ret\n",
    "\n",
    "            else: # 매수 유지-> 수익률 계산\n",
    "                #수익률이 +인 경우는 buy_date기준으로 수익률 계산\n",
    "                final_profit = (df.loc[current_date,'종가'] / df.loc[row[2],'종가'] - 1) * 100  #row[2]: buy_date\n",
    "                self.myPort.loc[idx,'profit'] = self.myPort.loc[idx,'profit'] + final_profit\n",
    "                \n",
    "                #print(f\"{row[0]}은 {profit}으로 매수유지: 총 수익률 {final_profit} : {df.loc[current_date,'종가']} {df.loc[row[2],'종가']}\")\n",
    "\n",
    "\n",
    "    def rltv_momentum(self, date):\n",
    "        '''\n",
    "        '''\n",
    "        target_month_col = f\"{self.TARGET_MMT_MTH}개월수익률\"\n",
    "        #start_day = datetime.strptime(start_date,'%Y-%m-%d')\n",
    "\n",
    "        columns = ['ticker', 'name', 'buy_date', 'buy_price', 'buy_num', target_month_col, 'sell']\n",
    "        rows=[]\n",
    "        \n",
    "        file_list = os.listdir(ETFDualMomentum.path_dir)\n",
    "\n",
    "        # update buy_num\n",
    "        self.stock_get_num = self.PORTPOLIO_NUMBER - len(self.myPort.loc[self.myPort['sell'] == self.BUY])\n",
    "        if(self.stock_get_num==0):\n",
    "            #print(f\"이미 {self.PORTPOLIO_NUMBER} 보유 중\")\n",
    "            return\n",
    "\n",
    "        #print(f\"상대적 모멘텀으로 {self.TARGET_MMT_MTH}\b개월 수익률이 높은 {self.stock_get_num} 종목 찾기 ------\")\n",
    "\n",
    "        for file in file_list:\n",
    "\n",
    "            if( len(file.split(\".\"))==1 or file.split(\".\")[1]!=\"xlsx\" or \"~!\" in file.split(\".\")[0]):\n",
    "                #print(file)\n",
    "                continue;\n",
    "            \n",
    "            ticker = file.split('.')[0]\n",
    "            \n",
    "            already_buy=0\n",
    "            # 이미 ticker가 있으면 건너뛴다,\n",
    "            for idx, row in self.myPort.iterrows():\n",
    "                if(row[0] == ticker and row[5] == BUY):\n",
    "                    #print(\"already buy\", row[0])\n",
    "                    already_buy = 1\n",
    "                    continue        \n",
    "\n",
    "            if(already_buy==1):\n",
    "                continue\n",
    "            #print(f\"{path_dir}/{file}\")\n",
    "            #df = pd.read_excel(f\"{path_dir}/ETF_{ticker}.xlsx\", index_col=0)\n",
    "\n",
    "            #data read\n",
    "            df = getattr(mod,  'ETF_{}'.format(ticker))\n",
    "\n",
    "            try:\n",
    "                if(df.loc[date, target_month_col]<0 or np.isnan(df.loc[date, target_month_col])):\n",
    "                    continue\n",
    "            except KeyError:\n",
    "                continue\n",
    "                \n",
    "            #index.append(ticker)\n",
    "            if(self.check_ngram(rows, stock.get_etf_ticker_name(ticker))==0):\n",
    "                rows.append([ticker, stock.get_etf_ticker_name(ticker), date, df.loc[date,'종가'] ,0, df.loc[date, target_month_col], BUY])\n",
    "\n",
    "        #df = pd.DataFrame(rows, index=index,  columns=columns)\n",
    "        df = pd.DataFrame(rows, columns=columns)\n",
    "        #df = df.fillna(0)\n",
    "        df = df.sort_values(by=target_month_col, ascending=False)\n",
    "        df = df[:self.stock_get_num]\n",
    "\n",
    "        if(len(df)>0):\n",
    "            '''\n",
    "            print(f\"-- 상대적 모멘텀으로 찾은 {len(df)}종목 매수\")\n",
    "            display(df)\n",
    "            print(\"\\n\")\n",
    "            '''\n",
    "\n",
    "            df = df.drop([target_month_col], axis=1)\n",
    "\n",
    "            # 매수\n",
    "            #한 종목당 구매할 수 있는 금액\n",
    "            buy_total = self.invest / len(df)\n",
    "\n",
    "            for idx, row in df.iterrows():\n",
    "                # 구매 할 수 있는 갯수\n",
    "                buy_num = math.floor(buy_total / row[3])\n",
    "\n",
    "                # 구매 후 남은 투자금 업데이트 \n",
    "                self.invest = self.invest - (buy_num*row[3])\n",
    "\n",
    "                # 데이터에 추가\n",
    "                #print(f\"총 구매가격 : {buy_total}, 종목: {row[1]}, {buy_num}개 매수, 남은 투자금: {invest}\")\n",
    "                df.loc[idx, 'buy_num'] = buy_num    \n",
    "\n",
    "            self.myPort = self.myPort.append(df)\n",
    "            self.myPort = self.myPort.reset_index(drop=True)\n",
    "            self.myPort = self.myPort.fillna(0)\n",
    "\n",
    "\n",
    "    def sellAll(self, date):\n",
    "        '''\n",
    "        '''\n",
    "        for idx, row in self.myPort.iterrows():\n",
    "            # 매수중인 종목만 체크\n",
    "            if(row[8]==SELL): # sell_date\n",
    "                continue\n",
    "\n",
    "            #df = pd.read_excel(f\"{path_dir}/E{row[0]}.xlsx\", index_col=0)\n",
    "            df = getattr(mod, 'ETF_{}'.format(row[0]))\n",
    "\n",
    "            #udpate\n",
    "            self.myPort.loc[idx,'sell'] = SELL\n",
    "            self.myPort.loc[idx,'sell_date'] = date\n",
    "            self.myPort.loc[idx,'sell_price'] = df.loc[date,'종가']\n",
    "            final_profit = (df.loc[date,'종가'] / df.loc[row[2],'종가']-1) * 100  #row[2]:  \n",
    "            self.myPort.loc[idx,'profit'] = final_profit\n",
    "            ret = self.myPort.loc[idx,'sell_price'] * self.myPort.loc[idx,'buy_num']\n",
    "            self.invest = self.invest + ret\n",
    "\n",
    "    def addMyProfit(self, start_date, end_date):\n",
    "        #print(f\"addMyProfit:  {start_date} {end_date}, {self.invest}\\n\")\n",
    "        \n",
    "        #전부 매도\n",
    "        self.sellAll(end_date)\n",
    "        #print(f\"다 매도 후 금액 : {self.invest}, 이익 : {(self.invest/self.INVEST-1)*100}\")\n",
    "        if(len(self.myProfit)>0):\n",
    "            pre_invest = self.myProfit.iloc[-1].invest\n",
    "        else:\n",
    "            pre_invest = self.INVEST\n",
    "        self.myProfit = self.myProfit.append({'start_date': start_date, 'end_date': end_date, 'profit': (self.invest/pre_invest-1)*100, 'invest': self.invest}, ignore_index=True)\n",
    "\n",
    "    def getOpenDateList(self, start_date, end_date):\n",
    "        '''\n",
    "            start_date : \"20020101\"\n",
    "            end_date   : \"20210401\"\n",
    "        '''\n",
    "        #df = pd.read_excel(f\"ETF/069500.xlsx\", index_col=0) # KODEX 200\n",
    "        #print(start_date, end_date)\n",
    "        df = stock.get_etf_ohlcv_by_date(start_date, end_date, \"069500\")\n",
    "        \n",
    "        start_date = datetime.strptime(start_date,'%Y%m%d')\n",
    "        end_date = datetime.strptime(end_date,'%Y%m%d')\n",
    "        #print(start_date, end_date)\n",
    "\n",
    "        while(start_date < end_date):\n",
    "            for n in range(7):\n",
    "                try:\n",
    "                    if(not df.loc[start_date+timedelta(days=n)].empty):\n",
    "                        #print(start_day+timedelta(days=n))\n",
    "                        start_date = start_date+timedelta(days=n)\n",
    "                        self.opening_date_list.append(start_date)\n",
    "                        #print(start_date)\n",
    "                        break\n",
    "                except KeyError:\n",
    "                    #print(\"Can't find date:\")\n",
    "                    continue \n",
    "            \n",
    "            start_date=start_date+timedelta(days=self.REBAL_MTH*30) \n",
    "\n",
    "    def check_ngram(self, rows, a):\n",
    "        skip=0\n",
    "        for row in rows:\n",
    "                \n",
    "            # 종목의 첫번째는 보통 회사 이름이기 때문에 제외시킴\n",
    "            if(len(a.split(\" \"))>1):\n",
    "                a=a.split(\" \")[1:]\n",
    "                a = \" \".join(a)\n",
    "\n",
    "            if(len(row[1].split(\" \"))>1):\n",
    "                b=row[1].split(\" \")[1:]\n",
    "                b = \" \".join(b)\n",
    "            else:\n",
    "                b=row[1]\n",
    "            #print(a,b)\n",
    "            #2-gram\n",
    "            if(len(a)>1 and len(b)>1):\n",
    "                r2,word2=diff_ngram(a,b,2)\n",
    "            else:\n",
    "                break\n",
    "            #print(\"2-gram : \", r2)\n",
    "\n",
    "            #3-gram\n",
    "            if(len(a)>2 and len(b)>2):\n",
    "                r3,word3 =diff_ngram(a,b,3)\n",
    "            else:\n",
    "                r3=1\n",
    "                \n",
    "            #print(\"3-gram : \", r3)\n",
    "            if(r2>0.5 and r3>0.5):\n",
    "                #print(a, b, \" skip\")\n",
    "                skip = 1\n",
    "                break\n",
    "\n",
    "        return skip\n",
    "    \n",
    "# End of Class ############################################################################"
   ]
  },
  {
   "cell_type": "code",
   "execution_count": null,
   "metadata": {},
   "outputs": [],
   "source": [
    "loadEFT(\"./ETF\")\n",
    "print(\"finish\")"
   ]
  },
  {
   "cell_type": "code",
   "execution_count": 380,
   "metadata": {
    "tags": []
   },
   "outputs": [
    {
     "output_type": "stream",
     "name": "stdout",
     "text": [
      "------------------------Dualmomentum----------------------------------\n",
      "\n",
      "---------- End dualmomentum ---------------------\n",
      "53.3124%\n"
     ]
    }
   ],
   "source": [
    "                          #invest, stock_get_num, target_mmt_mth, rebal_mth):\n",
    "dualMnt = ETFDualMomentum(10000000, 10, 12, 1)\n",
    "#dualMnt.getOpenDateList(\"20190101\", \"20191230\")\n",
    "#dualMnt.getOpenDateList(\"20180101\", \"20190228\")\n",
    "dualMnt.getOpenDateList(\"20020101\", \"20210401\")\n",
    "#dualMnt.getOpenDateList(\"20190101\", \"20191230\")\n",
    "#dualMnt.getOpenDateList(\"20190101\", \"20191230\")\n",
    "#dualMnt.getOpenDateList(\"20190101\", \"20191230\")\n",
    "#dualMnt.getOpenDateList(\"20190101\", \"20191230\")\n",
    "\n",
    "print(\"------------------------Dualmomentum----------------------------------\\n\")\n",
    "for idx, date in enumerate(dualMnt.opening_date_list):\n",
    "    #print(f\"#################### {date.strftime('%Y-%m-%d')}--------\\n\")\n",
    "    \n",
    "    #절대적 모멘텀\n",
    "    #처음에는 절대적 모멘텀 스킵\n",
    "    if(idx!=0):\n",
    "        dualMnt.abs_momentum(date, dualMnt.opening_date_list[idx-1])\n",
    "    \n",
    "    \n",
    "    #print(f\"---- 내 포트폴리오, 남은 투자금: {dualMnt.invest} ----\")  \n",
    "    '''\n",
    "    display(dualMnt.myPort)\n",
    "    print(\"\\n\")\n",
    "    '''\n",
    "\n",
    "    dualMnt.rltv_momentum(date)\n",
    "    \n",
    "    # 1년 리벨런싱 후 수익률 업데이트\n",
    "    if(idx!=0 and idx%12==0):\n",
    "        #print(\"@@@@@@@@@ 1년 후 리벨런싱 후 수익률 기록 @@@@@@@@@@@@@@@@@\")\n",
    "        start_idx = (int((idx+1)/12)-1)*12\n",
    "        dualMnt.addMyProfit(dualMnt.opening_date_list[start_idx], dualMnt.opening_date_list[idx])\n",
    "    \n",
    "print(\"---------- End dualmomentum ---------------------\")\n",
    "#end for ###################################\n",
    "\n",
    "#print(\"## 전부 매도 ###\")\n",
    "dualMnt.sellAll(dualMnt.opening_date_list[-1])\n",
    "#display(dualMnt.myPort)\n",
    "final_profit = (dualMnt.invest/dualMnt.INVEST-1)*100\n",
    "print(f\"{final_profit}%\")\n",
    "\n",
    "dualMnt.myProfit.loc[0, 'end_date'] = dualMnt.myProfit.loc[1, 'start_date']\n",
    "dualMnt.myProfit.loc[0, 'start_date'] = dualMnt.myProfit.loc[1, 'start_date']\n",
    "dualMnt.myProfit.loc[0, 'profit'] = 0\n",
    "\n",
    "\n",
    "\n"
   ]
  },
  {
   "cell_type": "code",
   "execution_count": 381,
   "metadata": {},
   "outputs": [],
   "source": [
    "# 3개월 모멘텀 : 125.89104999999998%\n",
    "# 6개월 : 116.53835%\n",
    "# 12개월 : 53.3124%\n",
    "myProfit12 = dualMnt.myProfit.copy()"
   ]
  },
  {
   "cell_type": "code",
   "execution_count": 382,
   "metadata": {},
   "outputs": [],
   "source": [
    "dualMnt.kodex200_1mth_buy_sell()"
   ]
  },
  {
   "cell_type": "code",
   "execution_count": 386,
   "metadata": {},
   "outputs": [
    {
     "output_type": "display_data",
     "data": {
      "text/plain": "<Figure size 432x288 with 1 Axes>",
      "image/svg+xml": "<?xml version=\"1.0\" encoding=\"utf-8\" standalone=\"no\"?>\n<!DOCTYPE svg PUBLIC \"-//W3C//DTD SVG 1.1//EN\"\n  \"http://www.w3.org/Graphics/SVG/1.1/DTD/svg11.dtd\">\n<svg height=\"272.8025pt\" version=\"1.1\" viewBox=\"0 0 389.148813 272.8025\" width=\"389.148813pt\" xmlns=\"http://www.w3.org/2000/svg\" xmlns:xlink=\"http://www.w3.org/1999/xlink\">\n <metadata>\n  <rdf:RDF xmlns:cc=\"http://creativecommons.org/ns#\" xmlns:dc=\"http://purl.org/dc/elements/1.1/\" xmlns:rdf=\"http://www.w3.org/1999/02/22-rdf-syntax-ns#\">\n   <cc:Work>\n    <dc:type rdf:resource=\"http://purl.org/dc/dcmitype/StillImage\"/>\n    <dc:date>2021-04-16T17:24:01.778862</dc:date>\n    <dc:format>image/svg+xml</dc:format>\n    <dc:creator>\n     <cc:Agent>\n      <dc:title>Matplotlib v3.4.0, https://matplotlib.org/</dc:title>\n     </cc:Agent>\n    </dc:creator>\n   </cc:Work>\n  </rdf:RDF>\n </metadata>\n <defs>\n  <style type=\"text/css\">*{stroke-linecap:butt;stroke-linejoin:round;}</style>\n </defs>\n <g id=\"figure_1\">\n  <g id=\"patch_1\">\n   <path d=\"M 0 272.8025 \nL 389.148813 272.8025 \nL 389.148813 0 \nL 0 0 \nz\n\" style=\"fill:none;\"/>\n  </g>\n  <g id=\"axes_1\">\n   <g id=\"patch_2\">\n    <path d=\"M 34.560937 235.480625 \nL 369.360938 235.480625 \nL 369.360938 18.040625 \nL 34.560937 18.040625 \nz\n\" style=\"fill:#ffffff;\"/>\n   </g>\n   <g id=\"matplotlib.axis_1\">\n    <g id=\"xtick_1\">\n     <g id=\"line2d_1\">\n      <defs>\n       <path d=\"M 0 0 \nL 0 3.5 \n\" id=\"mcd4172aaa4\" style=\"stroke:#000000;stroke-width:0.8;\"/>\n      </defs>\n      <g>\n       <use style=\"stroke:#000000;stroke-width:0.8;\" x=\"36.798505\" xlink:href=\"#mcd4172aaa4\" y=\"235.480625\"/>\n      </g>\n     </g>\n     <g id=\"text_1\">\n      <!-- 2002 -->\n      <g transform=\"translate(23.198505 250.32125)scale(0.1 -0.1)\">\n       <defs>\n        <path d=\"M 1101 429 \nL 3942 429 \nL 3942 0 \nL 653 0 \nL 653 205 \nQ 653 1018 1344 1664 \nQ 1670 1894 1990 2124 \nQ 2310 2355 2637 2592 \nQ 3334 3098 3334 3597 \nQ 3334 3994 3014 4218 \nQ 2867 4326 2694 4377 \nQ 2522 4429 2317 4429 \nQ 2016 4429 1741 4352 \nQ 1325 4224 883 3910 \nL 883 4435 \nQ 1325 4659 1667 4758 \nQ 2010 4858 2317 4858 \nQ 2963 4858 3405 4525 \nQ 3840 4198 3840 3622 \nQ 3840 2995 3168 2438 \nQ 2848 2214 2531 2000 \nQ 2214 1786 1894 1562 \nQ 1178 1024 1101 429 \nz\n\" id=\"AppleGothic-32\" transform=\"scale(0.015625)\"/>\n        <path d=\"M 2227 -83 \nQ 1414 -83 934 576 \nQ 461 1229 461 2387 \nQ 461 3552 973 4218 \nQ 1453 4858 2221 4858 \nQ 3027 4858 3482 4173 \nQ 3955 3494 3955 2394 \nQ 3955 1248 3462 582 \nQ 2976 -83 2227 -83 \nz\nM 2176 346 \nQ 2861 346 3200 992 \nQ 3462 1536 3462 2400 \nQ 3462 3315 3162 3859 \nQ 2822 4429 2214 4429 \nQ 1574 4429 1248 3821 \nQ 960 3283 960 2374 \nQ 960 1478 1248 941 \nQ 1574 346 2176 346 \nz\n\" id=\"AppleGothic-30\" transform=\"scale(0.015625)\"/>\n       </defs>\n       <use xlink:href=\"#AppleGothic-32\"/>\n       <use x=\"67.999985\" xlink:href=\"#AppleGothic-30\"/>\n       <use x=\"135.999969\" xlink:href=\"#AppleGothic-30\"/>\n       <use x=\"203.999954\" xlink:href=\"#AppleGothic-32\"/>\n      </g>\n     </g>\n    </g>\n    <g id=\"xtick_2\">\n     <g id=\"line2d_2\">\n      <g>\n       <use style=\"stroke:#000000;stroke-width:0.8;\" x=\"69.930842\" xlink:href=\"#mcd4172aaa4\" y=\"235.480625\"/>\n      </g>\n     </g>\n     <g id=\"text_2\">\n      <!-- 2004 -->\n      <g transform=\"translate(56.330842 250.32125)scale(0.1 -0.1)\">\n       <defs>\n        <path d=\"M 2662 4774 \nL 3130 4774 \nL 3130 1811 \nL 4000 1811 \nL 4000 1382 \nL 3130 1382 \nL 3130 0 \nL 2662 0 \nL 2662 1382 \nL 352 1382 \nL 352 1811 \nL 2662 4774 \nz\nM 2662 1811 \nL 2662 4166 \nL 838 1811 \nL 2662 1811 \nz\n\" id=\"AppleGothic-34\" transform=\"scale(0.015625)\"/>\n       </defs>\n       <use xlink:href=\"#AppleGothic-32\"/>\n       <use x=\"67.999985\" xlink:href=\"#AppleGothic-30\"/>\n       <use x=\"135.999969\" xlink:href=\"#AppleGothic-30\"/>\n       <use x=\"203.999954\" xlink:href=\"#AppleGothic-34\"/>\n      </g>\n     </g>\n    </g>\n    <g id=\"xtick_3\">\n     <g id=\"line2d_3\">\n      <g>\n       <use style=\"stroke:#000000;stroke-width:0.8;\" x=\"103.108566\" xlink:href=\"#mcd4172aaa4\" y=\"235.480625\"/>\n      </g>\n     </g>\n     <g id=\"text_3\">\n      <!-- 2006 -->\n      <g transform=\"translate(89.508566 250.32125)scale(0.1 -0.1)\">\n       <defs>\n        <path d=\"M 3699 4557 \nL 3699 4013 \nQ 3584 4102 3475 4163 \nQ 3366 4224 3258 4275 \nQ 3085 4358 2918 4393 \nQ 2752 4429 2586 4429 \nQ 2470 4429 2352 4409 \nQ 2234 4390 2118 4339 \nQ 1670 4154 1395 3738 \nQ 1011 3149 1011 2189 \nQ 1312 2490 1568 2656 \nQ 2022 2931 2534 2931 \nQ 3162 2931 3584 2566 \nQ 4038 2163 4038 1491 \nQ 4038 806 3558 358 \nQ 3078 -83 2394 -83 \nQ 1670 -83 1146 454 \nQ 518 1088 518 2253 \nQ 518 3411 1120 4134 \nQ 1715 4858 2605 4858 \nQ 2938 4858 3226 4762 \nQ 3309 4730 3427 4682 \nQ 3546 4634 3699 4557 \nz\nM 1062 1702 \nQ 1152 1152 1498 768 \nQ 1882 346 2419 346 \nQ 2899 346 3213 659 \nQ 3539 973 3539 1459 \nQ 3539 1920 3226 2214 \nQ 2918 2502 2496 2502 \nQ 1990 2502 1542 2176 \nQ 1414 2080 1292 1965 \nQ 1171 1850 1062 1702 \nz\n\" id=\"AppleGothic-36\" transform=\"scale(0.015625)\"/>\n       </defs>\n       <use xlink:href=\"#AppleGothic-32\"/>\n       <use x=\"67.999985\" xlink:href=\"#AppleGothic-30\"/>\n       <use x=\"135.999969\" xlink:href=\"#AppleGothic-30\"/>\n       <use x=\"203.999954\" xlink:href=\"#AppleGothic-36\"/>\n      </g>\n     </g>\n    </g>\n    <g id=\"xtick_4\">\n     <g id=\"line2d_4\">\n      <g>\n       <use style=\"stroke:#000000;stroke-width:0.8;\" x=\"136.240904\" xlink:href=\"#mcd4172aaa4\" y=\"235.480625\"/>\n      </g>\n     </g>\n     <g id=\"text_4\">\n      <!-- 2008 -->\n      <g transform=\"translate(122.640904 250.32125)scale(0.1 -0.1)\">\n       <defs>\n        <path d=\"M 2957 2605 \nQ 3219 2528 3404 2445 \nQ 3590 2362 3706 2272 \nQ 4192 1926 4192 1370 \nQ 4192 749 3642 333 \nQ 3098 -83 2285 -83 \nQ 1434 -83 947 326 \nQ 512 691 512 1229 \nQ 512 1798 998 2125 \nQ 1146 2227 1341 2304 \nQ 1536 2381 1779 2451 \nQ 1574 2534 1430 2617 \nQ 1286 2701 1197 2784 \nQ 819 3104 819 3603 \nQ 819 4173 1261 4512 \nQ 1702 4858 2381 4858 \nQ 3014 4858 3437 4570 \nQ 3898 4262 3898 3738 \nQ 3898 3373 3670 3081 \nQ 3443 2790 2957 2605 \nz\nM 2406 2752 \nQ 2624 2835 2781 2915 \nQ 2938 2995 3040 3066 \nQ 3398 3322 3398 3667 \nQ 3398 3994 3104 4205 \nQ 2822 4429 2362 4429 \nQ 1894 4429 1613 4205 \nQ 1325 3994 1325 3635 \nQ 1325 3322 1581 3098 \nQ 1696 3002 1901 2912 \nQ 2106 2822 2406 2752 \nz\nM 2368 2304 \nQ 2061 2202 1840 2106 \nQ 1619 2010 1472 1920 \nQ 1011 1626 1011 1235 \nQ 1011 845 1376 595 \nQ 1728 346 2310 346 \nQ 2938 346 3315 640 \nQ 3693 934 3693 1338 \nQ 3693 1741 3238 1997 \nQ 3104 2067 2886 2147 \nQ 2669 2227 2368 2304 \nz\n\" id=\"AppleGothic-38\" transform=\"scale(0.015625)\"/>\n       </defs>\n       <use xlink:href=\"#AppleGothic-32\"/>\n       <use x=\"67.999985\" xlink:href=\"#AppleGothic-30\"/>\n       <use x=\"135.999969\" xlink:href=\"#AppleGothic-30\"/>\n       <use x=\"203.999954\" xlink:href=\"#AppleGothic-38\"/>\n      </g>\n     </g>\n    </g>\n    <g id=\"xtick_5\">\n     <g id=\"line2d_5\">\n      <g>\n       <use style=\"stroke:#000000;stroke-width:0.8;\" x=\"169.418628\" xlink:href=\"#mcd4172aaa4\" y=\"235.480625\"/>\n      </g>\n     </g>\n     <g id=\"text_5\">\n      <!-- 2010 -->\n      <g transform=\"translate(155.818628 250.32125)scale(0.1 -0.1)\">\n       <defs>\n        <path d=\"M 2342 4774 \nL 2752 4774 \nL 2752 0 \nL 2285 0 \nL 2285 3526 \nL 1158 3526 \nL 1158 3885 \nL 1414 3885 \nQ 1990 3885 2214 4205 \nQ 2342 4410 2342 4774 \nz\n\" id=\"AppleGothic-31\" transform=\"scale(0.015625)\"/>\n       </defs>\n       <use xlink:href=\"#AppleGothic-32\"/>\n       <use x=\"67.999985\" xlink:href=\"#AppleGothic-30\"/>\n       <use x=\"135.999969\" xlink:href=\"#AppleGothic-31\"/>\n       <use x=\"203.999954\" xlink:href=\"#AppleGothic-30\"/>\n      </g>\n     </g>\n    </g>\n    <g id=\"xtick_6\">\n     <g id=\"line2d_6\">\n      <g>\n       <use style=\"stroke:#000000;stroke-width:0.8;\" x=\"202.550965\" xlink:href=\"#mcd4172aaa4\" y=\"235.480625\"/>\n      </g>\n     </g>\n     <g id=\"text_6\">\n      <!-- 2012 -->\n      <g transform=\"translate(188.950965 250.32125)scale(0.1 -0.1)\">\n       <use xlink:href=\"#AppleGothic-32\"/>\n       <use x=\"67.999985\" xlink:href=\"#AppleGothic-30\"/>\n       <use x=\"135.999969\" xlink:href=\"#AppleGothic-31\"/>\n       <use x=\"203.999954\" xlink:href=\"#AppleGothic-32\"/>\n      </g>\n     </g>\n    </g>\n    <g id=\"xtick_7\">\n     <g id=\"line2d_7\">\n      <g>\n       <use style=\"stroke:#000000;stroke-width:0.8;\" x=\"235.72869\" xlink:href=\"#mcd4172aaa4\" y=\"235.480625\"/>\n      </g>\n     </g>\n     <g id=\"text_7\">\n      <!-- 2014 -->\n      <g transform=\"translate(222.12869 250.32125)scale(0.1 -0.1)\">\n       <use xlink:href=\"#AppleGothic-32\"/>\n       <use x=\"67.999985\" xlink:href=\"#AppleGothic-30\"/>\n       <use x=\"135.999969\" xlink:href=\"#AppleGothic-31\"/>\n       <use x=\"203.999954\" xlink:href=\"#AppleGothic-34\"/>\n      </g>\n     </g>\n    </g>\n    <g id=\"xtick_8\">\n     <g id=\"line2d_8\">\n      <g>\n       <use style=\"stroke:#000000;stroke-width:0.8;\" x=\"268.861027\" xlink:href=\"#mcd4172aaa4\" y=\"235.480625\"/>\n      </g>\n     </g>\n     <g id=\"text_8\">\n      <!-- 2016 -->\n      <g transform=\"translate(255.261027 250.32125)scale(0.1 -0.1)\">\n       <use xlink:href=\"#AppleGothic-32\"/>\n       <use x=\"67.999985\" xlink:href=\"#AppleGothic-30\"/>\n       <use x=\"135.999969\" xlink:href=\"#AppleGothic-31\"/>\n       <use x=\"203.999954\" xlink:href=\"#AppleGothic-36\"/>\n      </g>\n     </g>\n    </g>\n    <g id=\"xtick_9\">\n     <g id=\"line2d_9\">\n      <g>\n       <use style=\"stroke:#000000;stroke-width:0.8;\" x=\"302.038751\" xlink:href=\"#mcd4172aaa4\" y=\"235.480625\"/>\n      </g>\n     </g>\n     <g id=\"text_9\">\n      <!-- 2018 -->\n      <g transform=\"translate(288.438751 250.32125)scale(0.1 -0.1)\">\n       <use xlink:href=\"#AppleGothic-32\"/>\n       <use x=\"67.999985\" xlink:href=\"#AppleGothic-30\"/>\n       <use x=\"135.999969\" xlink:href=\"#AppleGothic-31\"/>\n       <use x=\"203.999954\" xlink:href=\"#AppleGothic-38\"/>\n      </g>\n     </g>\n    </g>\n    <g id=\"xtick_10\">\n     <g id=\"line2d_10\">\n      <g>\n       <use style=\"stroke:#000000;stroke-width:0.8;\" x=\"335.171089\" xlink:href=\"#mcd4172aaa4\" y=\"235.480625\"/>\n      </g>\n     </g>\n     <g id=\"text_10\">\n      <!-- 2020 -->\n      <g transform=\"translate(321.571089 250.32125)scale(0.1 -0.1)\">\n       <use xlink:href=\"#AppleGothic-32\"/>\n       <use x=\"67.999985\" xlink:href=\"#AppleGothic-30\"/>\n       <use x=\"135.999969\" xlink:href=\"#AppleGothic-32\"/>\n       <use x=\"203.999954\" xlink:href=\"#AppleGothic-30\"/>\n      </g>\n     </g>\n    </g>\n    <g id=\"xtick_11\">\n     <g id=\"line2d_11\">\n      <g>\n       <use style=\"stroke:#000000;stroke-width:0.8;\" x=\"368.348813\" xlink:href=\"#mcd4172aaa4\" y=\"235.480625\"/>\n      </g>\n     </g>\n     <g id=\"text_11\">\n      <!-- 2022 -->\n      <g transform=\"translate(354.748813 250.32125)scale(0.1 -0.1)\">\n       <use xlink:href=\"#AppleGothic-32\"/>\n       <use x=\"67.999985\" xlink:href=\"#AppleGothic-30\"/>\n       <use x=\"135.999969\" xlink:href=\"#AppleGothic-32\"/>\n       <use x=\"203.999954\" xlink:href=\"#AppleGothic-32\"/>\n      </g>\n     </g>\n    </g>\n    <g id=\"text_12\">\n     <!-- Year -->\n     <g transform=\"translate(191.155469 263.882187)scale(0.1 -0.1)\">\n      <defs>\n       <path d=\"M 115 5018 \nL 717 5018 \nL 2253 2707 \nL 3763 5018 \nL 4390 5018 \nL 2496 2266 \nL 2496 0 \nL 1997 0 \nL 1997 2266 \nL 115 5018 \nz\n\" id=\"AppleGothic-59\" transform=\"scale(0.015625)\"/>\n       <path d=\"M 3296 1850 \nL 691 1850 \nQ 691 1114 1033 726 \nQ 1376 339 1933 339 \nQ 2355 339 2746 608 \nQ 2854 678 2976 784 \nQ 3098 890 3238 1030 \nL 3238 474 \nQ 3085 358 2953 272 \nQ 2822 186 2707 128 \nQ 2304 -83 1901 -83 \nQ 1203 -83 717 397 \nQ 192 902 192 1709 \nQ 192 2470 666 2982 \nQ 1146 3501 1850 3501 \nQ 2534 3501 2938 3002 \nQ 3296 2547 3296 1850 \nz\nM 755 2240 \nL 2758 2240 \nQ 2682 2675 2429 2889 \nQ 2176 3104 1818 3104 \nQ 1421 3104 1146 2854 \nQ 890 2624 755 2240 \nz\n\" id=\"AppleGothic-65\" transform=\"scale(0.015625)\"/>\n       <path d=\"M 2950 2214 \nL 2950 602 \nQ 2950 493 2998 413 \nQ 3046 333 3174 333 \nQ 3213 333 3238 336 \nQ 3264 339 3290 346 \nQ 3328 358 3357 371 \nQ 3386 384 3405 390 \nL 3405 32 \nQ 3290 -6 3174 -22 \nQ 3059 -38 2995 -38 \nQ 2669 -38 2566 134 \nQ 2483 243 2483 602 \nQ 2400 461 2317 355 \nQ 2234 250 2150 179 \nQ 1818 -83 1376 -83 \nQ 909 -83 563 192 \nQ 205 486 205 941 \nQ 205 1510 781 1779 \nQ 992 1882 1341 1958 \nQ 1690 2035 2176 2099 \nL 2483 2131 \nQ 2483 2579 2256 2832 \nQ 2029 3085 1587 3085 \nQ 1421 3085 1257 3043 \nQ 1094 3002 928 2912 \nQ 838 2861 729 2790 \nQ 621 2720 493 2611 \nL 493 3136 \nQ 1037 3501 1664 3501 \nQ 2304 3501 2650 3098 \nQ 2950 2746 2950 2214 \nz\nM 2483 1542 \nL 2483 1747 \nL 2266 1722 \nQ 1466 1638 1139 1498 \nQ 704 1325 704 934 \nQ 704 819 755 713 \nQ 806 608 896 525 \nQ 986 442 1117 390 \nQ 1248 339 1408 339 \nQ 1843 339 2170 691 \nQ 2483 1050 2483 1542 \nz\n\" id=\"AppleGothic-61\" transform=\"scale(0.015625)\"/>\n       <path d=\"M 2125 3424 \nL 2125 2963 \nQ 2054 2989 2009 3005 \nQ 1965 3021 1933 3027 \nQ 1901 3034 1865 3037 \nQ 1830 3040 1773 3040 \nQ 1306 3040 1005 2586 \nQ 749 2170 749 1658 \nL 749 0 \nL 288 0 \nL 288 3424 \nL 710 3424 \nL 742 2835 \nQ 902 3104 1043 3219 \nQ 1331 3456 1734 3456 \nQ 1843 3456 1936 3449 \nQ 2029 3443 2125 3424 \nz\n\" id=\"AppleGothic-72\" transform=\"scale(0.015625)\"/>\n      </defs>\n      <use xlink:href=\"#AppleGothic-59\"/>\n      <use x=\"69.499985\" xlink:href=\"#AppleGothic-65\"/>\n      <use x=\"124.399979\" xlink:href=\"#AppleGothic-61\"/>\n      <use x=\"180.899963\" xlink:href=\"#AppleGothic-72\"/>\n     </g>\n    </g>\n   </g>\n   <g id=\"matplotlib.axis_2\">\n    <g id=\"ytick_1\">\n     <g id=\"line2d_12\">\n      <defs>\n       <path d=\"M 0 0 \nL -3.5 0 \n\" id=\"m2d455fdcbe\" style=\"stroke:#000000;stroke-width:0.8;\"/>\n      </defs>\n      <g>\n       <use style=\"stroke:#000000;stroke-width:0.8;\" x=\"34.560937\" xlink:href=\"#m2d455fdcbe\" y=\"222.506478\"/>\n      </g>\n     </g>\n     <g id=\"text_13\">\n      <!-- 1 -->\n      <g transform=\"translate(20.760937 226.42679)scale(0.1 -0.1)\">\n       <use xlink:href=\"#AppleGothic-31\"/>\n      </g>\n     </g>\n    </g>\n    <g id=\"ytick_2\">\n     <g id=\"line2d_13\">\n      <g>\n       <use style=\"stroke:#000000;stroke-width:0.8;\" x=\"34.560937\" xlink:href=\"#m2d455fdcbe\" y=\"196.118242\"/>\n      </g>\n     </g>\n     <g id=\"text_14\">\n      <!-- 2 -->\n      <g transform=\"translate(20.760937 200.038554)scale(0.1 -0.1)\">\n       <use xlink:href=\"#AppleGothic-32\"/>\n      </g>\n     </g>\n    </g>\n    <g id=\"ytick_3\">\n     <g id=\"line2d_14\">\n      <g>\n       <use style=\"stroke:#000000;stroke-width:0.8;\" x=\"34.560937\" xlink:href=\"#m2d455fdcbe\" y=\"169.730006\"/>\n      </g>\n     </g>\n     <g id=\"text_15\">\n      <!-- 3 -->\n      <g transform=\"translate(20.760937 173.650319)scale(0.1 -0.1)\">\n       <defs>\n        <path d=\"M 550 333 \nL 550 870 \nQ 883 621 1235 483 \nQ 1587 346 1971 346 \nQ 2522 346 2861 666 \nQ 3219 992 3219 1421 \nQ 3219 1869 2842 2099 \nQ 2515 2304 1965 2304 \nL 992 2304 \nL 992 2701 \nL 1658 2701 \nQ 2298 2701 2662 2928 \nQ 3027 3155 3027 3584 \nQ 3027 3936 2752 4173 \nQ 2458 4429 1978 4429 \nQ 1786 4429 1597 4393 \nQ 1408 4358 1222 4282 \nQ 890 4141 531 3872 \nL 531 4422 \nQ 736 4531 912 4608 \nQ 1088 4685 1254 4736 \nQ 1626 4858 2022 4858 \nQ 2650 4858 3066 4531 \nQ 3488 4211 3488 3642 \nQ 3488 3168 3168 2861 \nQ 2976 2675 2643 2554 \nQ 2874 2522 3053 2448 \nQ 3232 2374 3366 2266 \nQ 3718 1971 3718 1434 \nQ 3718 813 3219 365 \nQ 2714 -83 1965 -83 \nQ 1549 -83 1126 70 \nQ 1024 102 880 166 \nQ 736 230 550 333 \nz\n\" id=\"AppleGothic-33\" transform=\"scale(0.015625)\"/>\n       </defs>\n       <use xlink:href=\"#AppleGothic-33\"/>\n      </g>\n     </g>\n    </g>\n    <g id=\"ytick_4\">\n     <g id=\"line2d_15\">\n      <g>\n       <use style=\"stroke:#000000;stroke-width:0.8;\" x=\"34.560937\" xlink:href=\"#m2d455fdcbe\" y=\"143.34177\"/>\n      </g>\n     </g>\n     <g id=\"text_16\">\n      <!-- 4 -->\n      <g transform=\"translate(20.760937 147.262083)scale(0.1 -0.1)\">\n       <use xlink:href=\"#AppleGothic-34\"/>\n      </g>\n     </g>\n    </g>\n    <g id=\"ytick_5\">\n     <g id=\"line2d_16\">\n      <g>\n       <use style=\"stroke:#000000;stroke-width:0.8;\" x=\"34.560937\" xlink:href=\"#m2d455fdcbe\" y=\"116.953535\"/>\n      </g>\n     </g>\n     <g id=\"text_17\">\n      <!-- 5 -->\n      <g transform=\"translate(20.760937 120.873847)scale(0.1 -0.1)\">\n       <defs>\n        <path d=\"M 621 4768 \nL 3488 4768 \nL 3488 4339 \nL 1088 4339 \nL 1088 2707 \nQ 1184 2771 1293 2819 \nQ 1402 2867 1510 2912 \nQ 1862 3040 2259 3040 \nQ 2989 3040 3424 2605 \nQ 3827 2202 3827 1581 \nQ 3827 870 3296 397 \nQ 2765 -83 2010 -83 \nQ 1651 -83 1248 45 \nQ 1158 77 1001 137 \nQ 845 198 621 301 \nL 621 838 \nQ 928 640 1203 525 \nQ 1408 435 1613 390 \nQ 1818 346 2010 346 \nQ 2528 346 2906 666 \nQ 3322 1011 3322 1536 \nQ 3322 1990 3021 2291 \nQ 2701 2611 2144 2611 \nQ 1856 2611 1587 2528 \nQ 1318 2445 1088 2272 \nL 621 2272 \nL 621 4768 \nz\n\" id=\"AppleGothic-35\" transform=\"scale(0.015625)\"/>\n       </defs>\n       <use xlink:href=\"#AppleGothic-35\"/>\n      </g>\n     </g>\n    </g>\n    <g id=\"ytick_6\">\n     <g id=\"line2d_17\">\n      <g>\n       <use style=\"stroke:#000000;stroke-width:0.8;\" x=\"34.560937\" xlink:href=\"#m2d455fdcbe\" y=\"90.565299\"/>\n      </g>\n     </g>\n     <g id=\"text_18\">\n      <!-- 6 -->\n      <g transform=\"translate(20.760937 94.485611)scale(0.1 -0.1)\">\n       <use xlink:href=\"#AppleGothic-36\"/>\n      </g>\n     </g>\n    </g>\n    <g id=\"ytick_7\">\n     <g id=\"line2d_18\">\n      <g>\n       <use style=\"stroke:#000000;stroke-width:0.8;\" x=\"34.560937\" xlink:href=\"#m2d455fdcbe\" y=\"64.177063\"/>\n      </g>\n     </g>\n     <g id=\"text_19\">\n      <!-- 7 -->\n      <g transform=\"translate(20.760937 68.097375)scale(0.1 -0.1)\">\n       <defs>\n        <path d=\"M 595 4774 \nL 3802 4774 \nL 3802 4410 \nL 1734 0 \nL 1235 0 \nL 3277 4352 \nL 595 4352 \nL 595 4774 \nz\n\" id=\"AppleGothic-37\" transform=\"scale(0.015625)\"/>\n       </defs>\n       <use xlink:href=\"#AppleGothic-37\"/>\n      </g>\n     </g>\n    </g>\n    <g id=\"ytick_8\">\n     <g id=\"line2d_19\">\n      <g>\n       <use style=\"stroke:#000000;stroke-width:0.8;\" x=\"34.560937\" xlink:href=\"#m2d455fdcbe\" y=\"37.788827\"/>\n      </g>\n     </g>\n     <g id=\"text_20\">\n      <!-- 8 -->\n      <g transform=\"translate(20.760937 41.70914)scale(0.1 -0.1)\">\n       <use xlink:href=\"#AppleGothic-38\"/>\n      </g>\n     </g>\n    </g>\n    <g id=\"text_21\">\n     <!-- CAGR -->\n     <g transform=\"translate(15.040625 140.735625)rotate(-90)scale(0.1 -0.1)\">\n      <defs>\n       <path d=\"M 4109 4621 \nL 4109 3974 \nQ 3872 4205 3565 4371 \nQ 3085 4627 2598 4627 \nQ 1850 4627 1312 3994 \nQ 1043 3680 912 3309 \nQ 781 2938 781 2515 \nQ 781 1651 1318 1030 \nQ 1850 410 2611 410 \nQ 2970 410 3344 554 \nQ 3718 698 4109 998 \nL 4109 378 \nQ 3251 -83 2554 -83 \nQ 1651 -83 973 614 \nQ 243 1363 243 2490 \nQ 243 3584 922 4339 \nQ 1613 5101 2630 5101 \nQ 3027 5101 3392 4979 \nQ 3757 4858 4109 4621 \nz\n\" id=\"AppleGothic-43\" transform=\"scale(0.015625)\"/>\n       <path d=\"M 2086 5018 \nL 2579 5018 \nL 4448 0 \nL 3859 0 \nL 3258 1715 \nL 1350 1715 \nL 723 0 \nL 166 0 \nL 2086 5018 \nz\nM 3117 2157 \nL 2342 4416 \nL 1504 2157 \nL 3117 2157 \nz\n\" id=\"AppleGothic-41\" transform=\"scale(0.015625)\"/>\n       <path d=\"M 4134 4634 \nL 4134 3968 \nQ 3782 4282 3456 4435 \nQ 3072 4627 2669 4627 \nQ 1856 4627 1318 3955 \nQ 806 3341 806 2483 \nQ 806 1613 1357 973 \nQ 1875 390 2528 390 \nQ 3046 390 3398 723 \nQ 3782 1088 3782 1683 \nL 3782 2067 \nL 2131 2067 \nL 2131 2509 \nL 4294 2509 \nL 4294 0 \nL 3853 0 \nL 3782 608 \nQ 3558 326 3302 166 \nQ 2906 -83 2432 -83 \nQ 1568 -83 928 653 \nQ 269 1395 269 2470 \nQ 269 3578 954 4339 \nQ 1638 5101 2662 5101 \nQ 3110 5101 3539 4934 \nQ 3763 4851 4134 4634 \nz\n\" id=\"AppleGothic-47\" transform=\"scale(0.015625)\"/>\n       <path d=\"M 314 5018 \nL 1971 5018 \nQ 2637 5018 3072 4800 \nQ 3680 4493 3680 3776 \nQ 3680 3283 3405 2969 \nQ 3130 2656 2522 2470 \nQ 2630 2426 2713 2384 \nQ 2797 2342 2848 2291 \nQ 3072 2099 3200 1728 \nL 3840 0 \nL 3270 0 \nL 2938 1050 \nQ 2675 1837 2387 2080 \nQ 2138 2310 1562 2310 \nL 819 2310 \nL 819 0 \nL 314 0 \nL 314 5018 \nz\nM 2067 4576 \nL 819 4576 \nL 819 2707 \nL 1587 2707 \nQ 2048 2707 2365 2793 \nQ 2682 2880 2880 3072 \nQ 3014 3194 3100 3373 \nQ 3187 3552 3187 3738 \nQ 3187 4090 2899 4320 \nQ 2586 4576 2067 4576 \nz\n\" id=\"AppleGothic-52\" transform=\"scale(0.015625)\"/>\n      </defs>\n      <use xlink:href=\"#AppleGothic-43\"/>\n      <use x=\"68.499985\" xlink:href=\"#AppleGothic-41\"/>\n      <use x=\"141.099976\" xlink:href=\"#AppleGothic-47\"/>\n      <use x=\"215.499969\" xlink:href=\"#AppleGothic-52\"/>\n     </g>\n    </g>\n    <g id=\"text_22\">\n     <!-- 1e7 -->\n     <g transform=\"translate(34.560937 15.040625)scale(0.1 -0.1)\">\n      <use xlink:href=\"#AppleGothic-31\"/>\n      <use x=\"67.999985\" xlink:href=\"#AppleGothic-65\"/>\n      <use x=\"122.899979\" xlink:href=\"#AppleGothic-37\"/>\n     </g>\n    </g>\n   </g>\n   <g id=\"line2d_20\">\n    <path clip-path=\"url(#pb1b5f552df)\" d=\"M 50.414534 222.506478 \nL 66.935316 218.870126 \nL 83.773805 218.927388 \nL 100.430747 207.261862 \nL 117.22385 206.183507 \nL 133.744632 201.543043 \nL 150.583121 213.822505 \nL 167.103903 195.713182 \nL 183.624685 185.699098 \nL 200.145467 190.986838 \nL 216.666249 195.708235 \nL 233.187031 194.45511 \nL 250.02552 195.603856 \nL 266.546302 193.317289 \nL 283.475565 199.365868 \nL 299.996347 186.535037 \nL 316.653289 190.040213 \nL 333.174071 194.733044 \nL 349.785626 198.518621 \n\" style=\"fill:none;stroke:#1f77b4;stroke-linecap:square;stroke-width:1.5;\"/>\n   </g>\n   <g id=\"line2d_21\">\n    <path clip-path=\"url(#pb1b5f552df)\" d=\"M 50.414534 222.506478 \nL 66.935316 220.606366 \nL 83.773805 220.610166 \nL 100.430747 212.473354 \nL 117.22385 211.411781 \nL 133.744632 202.179118 \nL 150.583121 204.184228 \nL 167.103903 189.408769 \nL 183.624685 175.230792 \nL 200.145467 185.095612 \nL 216.666249 189.30187 \nL 233.187031 187.35554 \nL 250.02552 186.236745 \nL 266.546302 191.084053 \nL 283.475565 195.185141 \nL 299.996347 176.896312 \nL 316.653289 190.55861 \nL 333.174071 190.118098 \nL 349.785626 198.073887 \n\" style=\"fill:none;stroke:#ff7f0e;stroke-linecap:square;stroke-width:1.5;\"/>\n   </g>\n   <g id=\"line2d_22\">\n    <path clip-path=\"url(#pb1b5f552df)\" d=\"M 50.414534 222.506478 \nL 66.935316 222.506478 \nL 83.773805 225.596989 \nL 100.430747 216.526376 \nL 117.22385 214.118449 \nL 133.744632 199.528829 \nL 150.583121 213.678742 \nL 167.103903 204.680485 \nL 183.624685 199.336564 \nL 200.145467 201.924841 \nL 216.666249 204.50945 \nL 233.187031 204.875046 \nL 250.02552 203.730206 \nL 266.546302 201.530522 \nL 283.475565 207.176799 \nL 299.996347 196.192498 \nL 316.653289 208.723137 \nL 333.174071 207.584247 \nL 349.785626 212.002746 \n\" style=\"fill:none;stroke:#2ca02c;stroke-linecap:square;stroke-width:1.5;\"/>\n   </g>\n   <g id=\"line2d_23\">\n    <path clip-path=\"url(#pb1b5f552df)\" d=\"M 49.779119 222.506478 \nL 64.439044 197.632492 \nL 80.642119 196.223042 \nL 96.572873 174.611474 \nL 112.503627 159.994954 \nL 128.570541 118.442278 \nL 144.909776 145.769949 \nL 160.795143 155.166283 \nL 176.635123 135.929899 \nL 192.520491 107.610393 \nL 208.451245 113.457001 \nL 224.381999 115.597277 \nL 240.539687 112.412964 \nL 256.924308 110.324889 \nL 272.991222 120.47815 \nL 289.103524 99.388601 \nL 305.533532 79.708501 \nL 321.872767 102.259703 \nL 337.985068 104.948098 \nL 354.142756 27.924261 \n\" style=\"fill:none;stroke:#d62728;stroke-linecap:square;stroke-width:1.5;\"/>\n   </g>\n   <g id=\"patch_3\">\n    <path d=\"M 34.560937 235.480625 \nL 34.560937 18.040625 \n\" style=\"fill:none;stroke:#000000;stroke-linecap:square;stroke-linejoin:miter;stroke-width:0.8;\"/>\n   </g>\n   <g id=\"patch_4\">\n    <path d=\"M 369.360938 235.480625 \nL 369.360938 18.040625 \n\" style=\"fill:none;stroke:#000000;stroke-linecap:square;stroke-linejoin:miter;stroke-width:0.8;\"/>\n   </g>\n   <g id=\"patch_5\">\n    <path d=\"M 34.560938 235.480625 \nL 369.360938 235.480625 \n\" style=\"fill:none;stroke:#000000;stroke-linecap:square;stroke-linejoin:miter;stroke-width:0.8;\"/>\n   </g>\n   <g id=\"patch_6\">\n    <path d=\"M 34.560938 18.040625 \nL 369.360938 18.040625 \n\" style=\"fill:none;stroke:#000000;stroke-linecap:square;stroke-linejoin:miter;stroke-width:0.8;\"/>\n   </g>\n   <g id=\"legend_1\">\n    <g id=\"patch_7\">\n     <path d=\"M 41.560937 84.284375 \nL 121.2625 84.284375 \nQ 123.2625 84.284375 123.2625 82.284375 \nL 123.2625 25.040625 \nQ 123.2625 23.040625 121.2625 23.040625 \nL 41.560937 23.040625 \nQ 39.560937 23.040625 39.560937 25.040625 \nL 39.560937 82.284375 \nQ 39.560937 84.284375 41.560937 84.284375 \nz\n\" style=\"fill:#ffffff;opacity:0.8;stroke:#cccccc;stroke-linejoin:miter;\"/>\n    </g>\n    <g id=\"line2d_24\">\n     <path d=\"M 43.560937 31.38125 \nL 63.560937 31.38125 \n\" style=\"fill:none;stroke:#1f77b4;stroke-linecap:square;stroke-width:1.5;\"/>\n    </g>\n    <g id=\"line2d_25\"/>\n    <g id=\"text_23\">\n     <!-- 3 -->\n     <g transform=\"translate(71.560937 34.88125)scale(0.1 -0.1)\">\n      <use xlink:href=\"#AppleGothic-33\"/>\n     </g>\n    </g>\n    <g id=\"line2d_26\">\n     <path d=\"M 43.560937 45.942188 \nL 63.560937 45.942188 \n\" style=\"fill:none;stroke:#ff7f0e;stroke-linecap:square;stroke-width:1.5;\"/>\n    </g>\n    <g id=\"line2d_27\"/>\n    <g id=\"text_24\">\n     <!-- 6 -->\n     <g transform=\"translate(71.560937 49.442188)scale(0.1 -0.1)\">\n      <use xlink:href=\"#AppleGothic-36\"/>\n     </g>\n    </g>\n    <g id=\"line2d_28\">\n     <path d=\"M 43.560937 60.503125 \nL 63.560937 60.503125 \n\" style=\"fill:none;stroke:#2ca02c;stroke-linecap:square;stroke-width:1.5;\"/>\n    </g>\n    <g id=\"line2d_29\"/>\n    <g id=\"text_25\">\n     <!-- 12 -->\n     <g transform=\"translate(71.560937 64.003125)scale(0.1 -0.1)\">\n      <use xlink:href=\"#AppleGothic-31\"/>\n      <use x=\"67.999985\" xlink:href=\"#AppleGothic-32\"/>\n     </g>\n    </g>\n    <g id=\"line2d_30\">\n     <path d=\"M 43.560937 75.064063 \nL 63.560937 75.064063 \n\" style=\"fill:none;stroke:#d62728;stroke-linecap:square;stroke-width:1.5;\"/>\n    </g>\n    <g id=\"line2d_31\"/>\n    <g id=\"text_26\">\n     <!-- kodex200 -->\n     <g transform=\"translate(71.560937 78.564063)scale(0.1 -0.1)\">\n      <defs>\n       <path d=\"M 288 5018 \nL 755 5018 \nL 755 1914 \nL 2330 3424 \nL 2982 3424 \nL 1542 2093 \nL 3187 0 \nL 2554 0 \nL 1197 1786 \nL 755 1376 \nL 755 0 \nL 288 0 \nL 288 5018 \nz\n\" id=\"AppleGothic-6b\" transform=\"scale(0.015625)\"/>\n       <path d=\"M 1888 -83 \nQ 1229 -83 730 397 \nQ 198 902 198 1709 \nQ 198 2470 666 2982 \nQ 1146 3501 1850 3501 \nQ 2547 3501 3027 2982 \nQ 3501 2470 3501 1715 \nQ 3501 922 2989 403 \nQ 2515 -83 1888 -83 \nz\nM 1843 339 \nQ 2304 339 2662 723 \nQ 3008 1114 3008 1715 \nQ 3008 2336 2637 2726 \nQ 2298 3085 1850 3085 \nQ 1389 3085 1062 2714 \nQ 704 2304 704 1709 \nQ 704 1107 1056 704 \nQ 1382 339 1843 339 \nz\n\" id=\"AppleGothic-6f\" transform=\"scale(0.015625)\"/>\n       <path d=\"M 2682 5018 \nL 3174 5018 \nL 3174 0 \nL 2733 0 \nL 2688 557 \nQ 2598 429 2508 329 \nQ 2419 230 2330 160 \nQ 2010 -83 1587 -83 \nQ 928 -83 493 429 \nQ 64 941 64 1670 \nQ 64 2426 518 2957 \nQ 979 3501 1670 3501 \nQ 1958 3501 2208 3398 \nQ 2298 3360 2416 3296 \nQ 2534 3232 2682 3142 \nL 2682 5018 \nz\nM 2682 1658 \nL 2682 2643 \nQ 2381 2906 2157 2995 \nQ 1933 3085 1722 3085 \nQ 1197 3085 870 2643 \nQ 563 2227 563 1677 \nQ 563 1088 902 698 \nQ 1216 339 1645 339 \nQ 2067 339 2374 710 \nQ 2682 1082 2682 1658 \nz\n\" id=\"AppleGothic-64\" transform=\"scale(0.015625)\"/>\n       <path d=\"M 352 3424 \nL 928 3424 \nL 1754 2150 \nL 2592 3424 \nL 3130 3424 \nL 2022 1830 \nL 3270 0 \nL 2682 0 \nL 1722 1504 \nL 755 0 \nL 211 0 \nL 1466 1830 \nL 352 3424 \nz\n\" id=\"AppleGothic-78\" transform=\"scale(0.015625)\"/>\n      </defs>\n      <use xlink:href=\"#AppleGothic-6b\"/>\n      <use x=\"51.399994\" xlink:href=\"#AppleGothic-6f\"/>\n      <use x=\"109.699982\" xlink:href=\"#AppleGothic-64\"/>\n      <use x=\"163.699966\" xlink:href=\"#AppleGothic-65\"/>\n      <use x=\"218.59996\" xlink:href=\"#AppleGothic-78\"/>\n      <use x=\"272.999954\" xlink:href=\"#AppleGothic-32\"/>\n      <use x=\"340.999939\" xlink:href=\"#AppleGothic-30\"/>\n      <use x=\"408.999924\" xlink:href=\"#AppleGothic-30\"/>\n     </g>\n    </g>\n   </g>\n  </g>\n </g>\n <defs>\n  <clipPath id=\"pb1b5f552df\">\n   <rect height=\"217.44\" width=\"334.8\" x=\"34.560937\" y=\"18.040625\"/>\n  </clipPath>\n </defs>\n</svg>\n",
      "image/png": "[encoded data removed]"
     },
     "metadata": {
      "needs_background": "light"
     }
    }
   ],
   "source": [
    "#plt.plot(dualMnt.myProfit['end_date'], dualMnt.myProfit['invest'] )\n",
    "plt.plot(dualMnt.myProfit['end_date'], myProfit3['invest'] )\n",
    "plt.plot(dualMnt.myProfit['end_date'], myProfit6['invest'] )\n",
    "plt.plot(dualMnt.myProfit['end_date'], myProfit12['invest'] )\n",
    "plt.plot(dualMnt.myKodex200Profit['end_date'], dualMnt.myKodex200Profit['invest'] )\n",
    "plt.ylabel('CAGR')\n",
    "plt.xlabel('Year')\n",
    "plt.legend(['3','6','12', 'kodex200'])\n",
    "plt.show()"
   ]
  },
  {
   "cell_type": "code",
   "execution_count": 224,
   "metadata": {},
   "outputs": [],
   "source": [
    "dualMnt.myProfit.loc[0, 'end_date'] = dualMnt.myProfit.loc[1, 'start_date']\n",
    "dualMnt.myProfit.loc[0, 'start_date'] = dualMnt.myProfit.loc[1, 'start_date']\n",
    "dualMnt.myProfit.loc[0, 'profit'] = 0"
   ]
  },
  {
   "cell_type": "code",
   "execution_count": 244,
   "metadata": {},
   "outputs": [],
   "source": [
    "myProfit9 = dualMnt.myProfit.copy()"
   ]
  },
  {
   "cell_type": "code",
   "execution_count": 329,
   "metadata": {},
   "outputs": [
    {
     "output_type": "execute_result",
     "data": {
      "text/plain": [
       "  start_date   end_date     profit      invest\n",
       "0 2002-10-28 2002-10-28   0.000000  10000000.0\n",
       "1 2002-10-28 2003-10-27   0.000000  10000000.0\n",
       "2 2003-10-27 2004-11-01   5.689800  10568980.0\n",
       "3 2004-11-01 2005-11-03  38.919839  14682410.0\n",
       "4 2005-11-03 2006-11-08   7.432363  15773660.0\n",
       "5 2006-11-08 2007-11-07  24.617051  19656670.0\n",
       "6 2007-11-07 2008-11-12 -12.218143  17254990.0"
      ],
      "text/html": "<div>\n<style scoped>\n    .dataframe tbody tr th:only-of-type {\n        vertical-align: middle;\n    }\n\n    .dataframe tbody tr th {\n        vertical-align: top;\n    }\n\n    .dataframe thead th {\n        text-align: right;\n    }\n</style>\n<table border=\"1\" class=\"dataframe\">\n  <thead>\n    <tr style=\"text-align: right;\">\n      <th></th>\n      <th>start_date</th>\n      <th>end_date</th>\n      <th>profit</th>\n      <th>invest</th>\n    </tr>\n  </thead>\n  <tbody>\n    <tr>\n      <th>0</th>\n      <td>2002-10-28</td>\n      <td>2002-10-28</td>\n      <td>0.000000</td>\n      <td>10000000.0</td>\n    </tr>\n    <tr>\n      <th>1</th>\n      <td>2002-10-28</td>\n      <td>2003-10-27</td>\n      <td>0.000000</td>\n      <td>10000000.0</td>\n    </tr>\n    <tr>\n      <th>2</th>\n      <td>2003-10-27</td>\n      <td>2004-11-01</td>\n      <td>5.689800</td>\n      <td>10568980.0</td>\n    </tr>\n    <tr>\n      <th>3</th>\n      <td>2004-11-01</td>\n      <td>2005-11-03</td>\n      <td>38.919839</td>\n      <td>14682410.0</td>\n    </tr>\n    <tr>\n      <th>4</th>\n      <td>2005-11-03</td>\n      <td>2006-11-08</td>\n      <td>7.432363</td>\n      <td>15773660.0</td>\n    </tr>\n    <tr>\n      <th>5</th>\n      <td>2006-11-08</td>\n      <td>2007-11-07</td>\n      <td>24.617051</td>\n      <td>19656670.0</td>\n    </tr>\n    <tr>\n      <th>6</th>\n      <td>2007-11-07</td>\n      <td>2008-11-12</td>\n      <td>-12.218143</td>\n      <td>17254990.0</td>\n    </tr>\n  </tbody>\n</table>\n</div>"
     },
     "metadata": {},
     "execution_count": 329
    }
   ],
   "source": [
    "myProfit9"
   ]
  },
  {
   "cell_type": "code",
   "execution_count": 251,
   "metadata": {},
   "outputs": [],
   "source": [
    "df = stock.get_etf_ohlcv_by_date(\"20031028\", \"20031028\", \"069500\")"
   ]
  },
  {
   "cell_type": "code",
   "execution_count": 371,
   "metadata": {},
   "outputs": [
    {
     "output_type": "execute_result",
     "data": {
      "text/plain": [
       "   start_date   end_date     profit      invest\n",
       "0  2002-10-28 2002-10-28   0.000000  10000000.0\n",
       "1  2002-10-28 2003-10-27  13.780200  11378020.0\n",
       "2  2003-10-27 2004-11-01  -0.190719  11356320.0\n",
       "3  2004-11-01 2005-11-03  38.927487  15777050.0\n",
       "4  2005-11-03 2006-11-08   2.590155  16185700.0\n",
       "5  2006-11-08 2007-11-07  10.864745  17944235.0\n",
       "6  2007-11-07 2008-11-12 -25.932479  13290850.0\n",
       "7  2008-11-12 2009-11-11  51.634395  20153500.0\n",
       "8  2009-11-11 2010-11-10  18.830005  23948405.0\n",
       "9  2010-11-10 2011-11-09  -8.367259  21944580.0\n",
       "10 2011-11-09 2012-11-07  -8.153289  20155375.0\n",
       "11 2012-11-07 2013-11-06   2.356096  20630255.0\n",
       "12 2013-11-06 2014-11-12  -2.110129  20194930.0\n",
       "13 2014-11-12 2015-11-11   4.290730  21061440.0\n",
       "14 2015-11-11 2016-11-18 -10.883159  18769290.0\n",
       "15 2016-11-18 2017-11-17  25.905775  23631620.0\n",
       "16 2017-11-17 2018-11-19  -5.620901  22303310.0\n",
       "17 2018-11-19 2019-11-18  -7.973615  20524930.0\n",
       "18 2019-11-18 2020-11-18  -6.989403  19090360.0"
      ],
      "text/html": "<div>\n<style scoped>\n    .dataframe tbody tr th:only-of-type {\n        vertical-align: middle;\n    }\n\n    .dataframe tbody tr th {\n        vertical-align: top;\n    }\n\n    .dataframe thead th {\n        text-align: right;\n    }\n</style>\n<table border=\"1\" class=\"dataframe\">\n  <thead>\n    <tr style=\"text-align: right;\">\n      <th></th>\n      <th>start_date</th>\n      <th>end_date</th>\n      <th>profit</th>\n      <th>invest</th>\n    </tr>\n  </thead>\n  <tbody>\n    <tr>\n      <th>0</th>\n      <td>2002-10-28</td>\n      <td>2002-10-28</td>\n      <td>0.000000</td>\n      <td>10000000.0</td>\n    </tr>\n    <tr>\n      <th>1</th>\n      <td>2002-10-28</td>\n      <td>2003-10-27</td>\n      <td>13.780200</td>\n      <td>11378020.0</td>\n    </tr>\n    <tr>\n      <th>2</th>\n      <td>2003-10-27</td>\n      <td>2004-11-01</td>\n      <td>-0.190719</td>\n      <td>11356320.0</td>\n    </tr>\n    <tr>\n      <th>3</th>\n      <td>2004-11-01</td>\n      <td>2005-11-03</td>\n      <td>38.927487</td>\n      <td>15777050.0</td>\n    </tr>\n    <tr>\n      <th>4</th>\n      <td>2005-11-03</td>\n      <td>2006-11-08</td>\n      <td>2.590155</td>\n      <td>16185700.0</td>\n    </tr>\n    <tr>\n      <th>5</th>\n      <td>2006-11-08</td>\n      <td>2007-11-07</td>\n      <td>10.864745</td>\n      <td>17944235.0</td>\n    </tr>\n    <tr>\n      <th>6</th>\n      <td>2007-11-07</td>\n      <td>2008-11-12</td>\n      <td>-25.932479</td>\n      <td>13290850.0</td>\n    </tr>\n    <tr>\n      <th>7</th>\n      <td>2008-11-12</td>\n      <td>2009-11-11</td>\n      <td>51.634395</td>\n      <td>20153500.0</td>\n    </tr>\n    <tr>\n      <th>8</th>\n      <td>2009-11-11</td>\n      <td>2010-11-10</td>\n      <td>18.830005</td>\n      <td>23948405.0</td>\n    </tr>\n    <tr>\n      <th>9</th>\n      <td>2010-11-10</td>\n      <td>2011-11-09</td>\n      <td>-8.367259</td>\n      <td>21944580.0</td>\n    </tr>\n    <tr>\n      <th>10</th>\n      <td>2011-11-09</td>\n      <td>2012-11-07</td>\n      <td>-8.153289</td>\n      <td>20155375.0</td>\n    </tr>\n    <tr>\n      <th>11</th>\n      <td>2012-11-07</td>\n      <td>2013-11-06</td>\n      <td>2.356096</td>\n      <td>20630255.0</td>\n    </tr>\n    <tr>\n      <th>12</th>\n      <td>2013-11-06</td>\n      <td>2014-11-12</td>\n      <td>-2.110129</td>\n      <td>20194930.0</td>\n    </tr>\n    <tr>\n      <th>13</th>\n      <td>2014-11-12</td>\n      <td>2015-11-11</td>\n      <td>4.290730</td>\n      <td>21061440.0</td>\n    </tr>\n    <tr>\n      <th>14</th>\n      <td>2015-11-11</td>\n      <td>2016-11-18</td>\n      <td>-10.883159</td>\n      <td>18769290.0</td>\n    </tr>\n    <tr>\n      <th>15</th>\n      <td>2016-11-18</td>\n      <td>2017-11-17</td>\n      <td>25.905775</td>\n      <td>23631620.0</td>\n    </tr>\n    <tr>\n      <th>16</th>\n      <td>2017-11-17</td>\n      <td>2018-11-19</td>\n      <td>-5.620901</td>\n      <td>22303310.0</td>\n    </tr>\n    <tr>\n      <th>17</th>\n      <td>2018-11-19</td>\n      <td>2019-11-18</td>\n      <td>-7.973615</td>\n      <td>20524930.0</td>\n    </tr>\n    <tr>\n      <th>18</th>\n      <td>2019-11-18</td>\n      <td>2020-11-18</td>\n      <td>-6.989403</td>\n      <td>19090360.0</td>\n    </tr>\n  </tbody>\n</table>\n</div>"
     },
     "metadata": {},
     "execution_count": 371
    }
   ],
   "source": [
    "dualMnt.myProfit"
   ]
  },
  {
   "cell_type": "code",
   "execution_count": null,
   "metadata": {},
   "outputs": [],
   "source": []
  }
 ]
}