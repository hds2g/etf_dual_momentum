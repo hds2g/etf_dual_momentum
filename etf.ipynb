{
 "metadata": {
  "language_info": {
   "codemirror_mode": {
    "name": "ipython",
    "version": 3
   },
   "file_extension": ".py",
   "mimetype": "text/x-python",
   "name": "python",
   "nbconvert_exporter": "python",
   "pygments_lexer": "ipython3",
   "version": "3.9.2"
  },
  "orig_nbformat": 2,
  "kernelspec": {
   "name": "python3",
   "display_name": "Python 3",
   "language": "python"
  }
 },
 "nbformat": 4,
 "nbformat_minor": 2,
 "cells": [
  {
   "cell_type": "code",
   "execution_count": 61,
   "metadata": {},
   "outputs": [],
   "source": [
    "import os\n",
    "import pandas as pd\n",
    "import time\n",
    "from pykrx import stock\n",
    "import matplotlib.pyplot as plt\n",
    "from datetime import datetime, timedelta\n",
    "import numpy as np\n"
   ]
  },
  {
   "cell_type": "code",
   "execution_count": 192,
   "metadata": {},
   "outputs": [
    {
     "output_type": "execute_result",
     "data": {
      "text/plain": [
       "                 NAV     시가     고가     저가     종가   거래량      거래대금     기초지수\n",
       "날짜                                                                       \n",
       "2016-11-08  10019.63  10055  10055   9950  10010   706   7040780  2150.30\n",
       "2016-11-09  10025.56   9970  10090   9970  10085  9789  98607545  2123.84\n",
       "2016-11-10  10097.81  10150  10150  10060  10110   521   5256085  2143.32\n",
       "2016-11-11  10203.93  10270  10270  10090  10160   249   2538495  2147.11\n",
       "2016-11-14  10309.65  10130  10370  10130  10355   407   4201705  2161.69\n",
       "...              ...    ...    ...    ...    ...   ...       ...      ...\n",
       "2021-03-26  11298.95  11390  11695  11300  11685  6336  72866835  2745.40\n",
       "2021-03-29  11683.08  11685  11735  11600  11685  3206  37429985  2733.96\n",
       "2021-03-30  11627.59  11685  11735  11600  11700  6052  70668835  2771.32\n",
       "2021-03-31  11776.33  11700  11730  11590  11620   795   9243720  2758.50\n",
       "2021-04-01  11951.20  11745  11785  11705  11755  4587  53822885  2814.59\n",
       "\n",
       "[1080 rows x 8 columns]"
      ],
      "text/html": "<div>\n<style scoped>\n    .dataframe tbody tr th:only-of-type {\n        vertical-align: middle;\n    }\n\n    .dataframe tbody tr th {\n        vertical-align: top;\n    }\n\n    .dataframe thead th {\n        text-align: right;\n    }\n</style>\n<table border=\"1\" class=\"dataframe\">\n  <thead>\n    <tr style=\"text-align: right;\">\n      <th></th>\n      <th>NAV</th>\n      <th>시가</th>\n      <th>고가</th>\n      <th>저가</th>\n      <th>종가</th>\n      <th>거래량</th>\n      <th>거래대금</th>\n      <th>기초지수</th>\n    </tr>\n    <tr>\n      <th>날짜</th>\n      <th></th>\n      <th></th>\n      <th></th>\n      <th></th>\n      <th></th>\n      <th></th>\n      <th></th>\n      <th></th>\n    </tr>\n  </thead>\n  <tbody>\n    <tr>\n      <th>2016-11-08</th>\n      <td>10019.63</td>\n      <td>10055</td>\n      <td>10055</td>\n      <td>9950</td>\n      <td>10010</td>\n      <td>706</td>\n      <td>7040780</td>\n      <td>2150.30</td>\n    </tr>\n    <tr>\n      <th>2016-11-09</th>\n      <td>10025.56</td>\n      <td>9970</td>\n      <td>10090</td>\n      <td>9970</td>\n      <td>10085</td>\n      <td>9789</td>\n      <td>98607545</td>\n      <td>2123.84</td>\n    </tr>\n    <tr>\n      <th>2016-11-10</th>\n      <td>10097.81</td>\n      <td>10150</td>\n      <td>10150</td>\n      <td>10060</td>\n      <td>10110</td>\n      <td>521</td>\n      <td>5256085</td>\n      <td>2143.32</td>\n    </tr>\n    <tr>\n      <th>2016-11-11</th>\n      <td>10203.93</td>\n      <td>10270</td>\n      <td>10270</td>\n      <td>10090</td>\n      <td>10160</td>\n      <td>249</td>\n      <td>2538495</td>\n      <td>2147.11</td>\n    </tr>\n    <tr>\n      <th>2016-11-14</th>\n      <td>10309.65</td>\n      <td>10130</td>\n      <td>10370</td>\n      <td>10130</td>\n      <td>10355</td>\n      <td>407</td>\n      <td>4201705</td>\n      <td>2161.69</td>\n    </tr>\n    <tr>\n      <th>...</th>\n      <td>...</td>\n      <td>...</td>\n      <td>...</td>\n      <td>...</td>\n      <td>...</td>\n      <td>...</td>\n      <td>...</td>\n      <td>...</td>\n    </tr>\n    <tr>\n      <th>2021-03-26</th>\n      <td>11298.95</td>\n      <td>11390</td>\n      <td>11695</td>\n      <td>11300</td>\n      <td>11685</td>\n      <td>6336</td>\n      <td>72866835</td>\n      <td>2745.40</td>\n    </tr>\n    <tr>\n      <th>2021-03-29</th>\n      <td>11683.08</td>\n      <td>11685</td>\n      <td>11735</td>\n      <td>11600</td>\n      <td>11685</td>\n      <td>3206</td>\n      <td>37429985</td>\n      <td>2733.96</td>\n    </tr>\n    <tr>\n      <th>2021-03-30</th>\n      <td>11627.59</td>\n      <td>11685</td>\n      <td>11735</td>\n      <td>11600</td>\n      <td>11700</td>\n      <td>6052</td>\n      <td>70668835</td>\n      <td>2771.32</td>\n    </tr>\n    <tr>\n      <th>2021-03-31</th>\n      <td>11776.33</td>\n      <td>11700</td>\n      <td>11730</td>\n      <td>11590</td>\n      <td>11620</td>\n      <td>795</td>\n      <td>9243720</td>\n      <td>2758.50</td>\n    </tr>\n    <tr>\n      <th>2021-04-01</th>\n      <td>11951.20</td>\n      <td>11745</td>\n      <td>11785</td>\n      <td>11705</td>\n      <td>11755</td>\n      <td>4587</td>\n      <td>53822885</td>\n      <td>2814.59</td>\n    </tr>\n  </tbody>\n</table>\n<p>1080 rows × 8 columns</p>\n</div>"
     },
     "metadata": {},
     "execution_count": 192
    }
   ],
   "source": [
    "df = stock.get_etf_ohlcv_by_date(\"20000101\", \"2021041\", \"256450\")\n",
    "df"
   ]
  },
  {
   "cell_type": "code",
   "execution_count": 43,
   "metadata": {},
   "outputs": [
    {
     "output_type": "stream",
     "name": "stdout",
     "text": [
      "214980 error!\n",
      "153130 error!\n"
     ]
    }
   ],
   "source": [
    "\n",
    "#os.mkdir(\"ETF\")\n",
    "\n",
    "ticker_list = stock.get_etf_ticker_list()\n",
    "for ticker in ticker_list:\n",
    "        save_file = f\"./ETF/{ticker}.xlsx\"\n",
    "        #if os.path.exists(save_file):\n",
    "        #    continue\n",
    "        try:\n",
    "            #print(ticker)\n",
    "            df = stock.get_etf_ohlcv_by_date(\"20000101\", \"2021041\", ticker)\n",
    "            \n",
    "        except ValueError:\n",
    "            print(ticker+\" error!\")\n",
    "        \n",
    "        df.to_excel(save_file)\n",
    "        time.sleep(0.1)"
   ]
  },
  {
   "cell_type": "code",
   "execution_count": 44,
   "metadata": {},
   "outputs": [],
   "source": [
    "\n",
    "\n",
    "def set_etf_period_returns():\n",
    "    path_dir = './ETF'\n",
    "\n",
    "    file_list = os.listdir(path_dir)\n",
    "\n",
    "    for file in file_list:\n",
    "        # 데이터 가져오기\n",
    "        df = pd.read_excel(f\"{path_dir}/{file}\", index_col=0)\n",
    "        \n",
    "        df['1개월수익률'] = df['종가'].pct_change(periods=30)*100\n",
    "        df['2개월수익률'] = df['종가'].pct_change(periods=60)*100\n",
    "        df['3개월수익률'] = df['종가'].pct_change(periods=90)*100\n",
    "        df['4개월수익률'] = df['종가'].pct_change(periods=120)*100\n",
    "        df['5개월수익률'] = df['종가'].pct_change(periods=150)*100\n",
    "        df['6개월수익률'] = df['종가'].pct_change(periods=180)*100\n",
    "        df['7개월수익률'] = df['종가'].pct_change(periods=210)*100\n",
    "        df['8개월수익률'] = df['종가'].pct_change(periods=240)*100\n",
    "        df['9개월수익률'] = df['종가'].pct_change(periods=270)*100\n",
    "        df['10개월수익률'] = df['종가'].pct_change(periods=300)*100\n",
    "        df['11개월수익률'] = df['종가'].pct_change(periods=330)*100\n",
    "        df['12개월수익률'] = df['종가'].pct_change(periods=360)*100\n",
    "        #df = df.fillna(0)\n",
    "        df.to_excel(f\"{path_dir}/{file}\")\n",
    "\n",
    "set_etf_period_returns()\n",
    "\n"
   ]
  },
  {
   "cell_type": "code",
   "execution_count": 91,
   "metadata": {},
   "outputs": [],
   "source": [
    "path_dir = './ETF'\n",
    "\n",
    "dd\n",
    "\n",
    "columns = ['name', 'code', 'start', 'end', 'returns']\n",
    "rows=[]\n",
    "file_list = os.listdir(path_dir)\n",
    "for file in file_list:\n",
    "   df = pd.read_excel(f\"ETF/{file}\", index_col=0)\n",
    "   수익률=(df.iloc[-1]['종가']/df.iloc[0]['종가']-1)*100\n",
    "   ticker = file.split('.')[0]\n",
    "   rows.append([stock.get_etf_ticker_name(ticker), ticker, df.index[0], df.index[-1] , 수익률])\n",
    "   #break\n",
    "#df = pd.read_excel(f\"ETF/069500.xlsx\", index_col=0)\n",
    "#df.index\n",
    "#\n",
    "#plt.legend(loc='best')\n",
    "#plt.show()"
   ]
  },
  {
   "cell_type": "code",
   "execution_count": 92,
   "metadata": {},
   "outputs": [],
   "source": [
    "df = pd.DataFrame(rows, columns=columns)\n",
    "df = df.sort_values(by='returns', ascending=False)\n"
   ]
  },
  {
   "cell_type": "code",
   "execution_count": 13,
   "metadata": {},
   "outputs": [
    {
     "output_type": "execute_result",
     "data": {
      "text/plain": [
       "                 NAV     시가     고가     저가     종가   거래량       거래대금     기초지수\n",
       "날짜                                                                        \n",
       "2018-07-20  49927.22  50000  50000  49925  49925   101    5049925  1270.06\n",
       "2018-07-23  50003.96  50040  50040  50040  50040   100    5004000  1268.18\n",
       "2018-07-24  50132.91  50120  50125  50120  50125  2100  105252500  1264.95\n",
       "2018-07-25  50028.47  50135  50135  50135  50135   100    5013500  1267.66\n",
       "2018-07-26  50060.54      0      0      0  50055     0          0  1266.93"
      ],
      "text/html": "<div>\n<style scoped>\n    .dataframe tbody tr th:only-of-type {\n        vertical-align: middle;\n    }\n\n    .dataframe tbody tr th {\n        vertical-align: top;\n    }\n\n    .dataframe thead th {\n        text-align: right;\n    }\n</style>\n<table border=\"1\" class=\"dataframe\">\n  <thead>\n    <tr style=\"text-align: right;\">\n      <th></th>\n      <th>NAV</th>\n      <th>시가</th>\n      <th>고가</th>\n      <th>저가</th>\n      <th>종가</th>\n      <th>거래량</th>\n      <th>거래대금</th>\n      <th>기초지수</th>\n    </tr>\n    <tr>\n      <th>날짜</th>\n      <th></th>\n      <th></th>\n      <th></th>\n      <th></th>\n      <th></th>\n      <th></th>\n      <th></th>\n      <th></th>\n    </tr>\n  </thead>\n  <tbody>\n    <tr>\n      <th>2018-07-20</th>\n      <td>49927.22</td>\n      <td>50000</td>\n      <td>50000</td>\n      <td>49925</td>\n      <td>49925</td>\n      <td>101</td>\n      <td>5049925</td>\n      <td>1270.06</td>\n    </tr>\n    <tr>\n      <th>2018-07-23</th>\n      <td>50003.96</td>\n      <td>50040</td>\n      <td>50040</td>\n      <td>50040</td>\n      <td>50040</td>\n      <td>100</td>\n      <td>5004000</td>\n      <td>1268.18</td>\n    </tr>\n    <tr>\n      <th>2018-07-24</th>\n      <td>50132.91</td>\n      <td>50120</td>\n      <td>50125</td>\n      <td>50120</td>\n      <td>50125</td>\n      <td>2100</td>\n      <td>105252500</td>\n      <td>1264.95</td>\n    </tr>\n    <tr>\n      <th>2018-07-25</th>\n      <td>50028.47</td>\n      <td>50135</td>\n      <td>50135</td>\n      <td>50135</td>\n      <td>50135</td>\n      <td>100</td>\n      <td>5013500</td>\n      <td>1267.66</td>\n    </tr>\n    <tr>\n      <th>2018-07-26</th>\n      <td>50060.54</td>\n      <td>0</td>\n      <td>0</td>\n      <td>0</td>\n      <td>50055</td>\n      <td>0</td>\n      <td>0</td>\n      <td>1266.93</td>\n    </tr>\n  </tbody>\n</table>\n</div>"
     },
     "metadata": {},
     "execution_count": 13
    }
   ],
   "source": [
    "df.head()"
   ]
  },
  {
   "cell_type": "code",
   "execution_count": 30,
   "metadata": {},
   "outputs": [
    {
     "output_type": "execute_result",
     "data": {
      "text/plain": [
       "-2.0831246870305464"
      ]
     },
     "metadata": {},
     "execution_count": 30
    }
   ],
   "source": [
    "\n",
    "a"
   ]
  },
  {
   "cell_type": "code",
   "execution_count": 25,
   "metadata": {},
   "outputs": [
    {
     "output_type": "stream",
     "name": "stdout",
     "text": [
      "49925.0\n48885.0\n"
     ]
    }
   ],
   "source": [
    "print(df.iloc[0]['종가'])\n",
    "print(df.iloc[-1]['종가'])"
   ]
  },
  {
   "cell_type": "code",
   "execution_count": 62,
   "metadata": {},
   "outputs": [],
   "source": [
    "df['삼개월수익률'] = df['종가'].pct_change(periods=90)*100"
   ]
  },
  {
   "cell_type": "code",
   "execution_count": 79,
   "metadata": {},
   "outputs": [
    {
     "output_type": "execute_result",
     "data": {
      "text/plain": [
       "NAV       8.042760e+03\n",
       "시가        7.840000e+03\n",
       "고가        8.040000e+03\n",
       "저가        7.840000e+03\n",
       "종가        8.010000e+03\n",
       "거래량       2.448722e+06\n",
       "거래대금      1.956806e+10\n",
       "기초지수      7.832000e+01\n",
       "3개월수익률    3.354839e+00\n",
       "삼개월수익률    3.354839e+00\n",
       "육개월수익률             NaN\n",
       "Name: 2003-02-24 00:00:00, dtype: float64"
      ]
     },
     "metadata": {},
     "execution_count": 79
    }
   ],
   "source": [
    "df.iloc[90]"
   ]
  },
  {
   "cell_type": "code",
   "execution_count": 65,
   "metadata": {},
   "outputs": [],
   "source": [
    "df['육개월수익률'] = df['종가'].pct_change(periods=180)*100"
   ]
  },
  {
   "cell_type": "code",
   "execution_count": 95,
   "metadata": {},
   "outputs": [],
   "source": [
    "df = pd.read_excel(\"./ETF/069500.xlsx\", index_col=0)"
   ]
  },
  {
   "cell_type": "code",
   "execution_count": 103,
   "metadata": {},
   "outputs": [
    {
     "output_type": "execute_result",
     "data": {
      "text/plain": [
       "Index(['NAV', '시가', '고가', '저가', '종가', '거래량', '거래대금', '기초지수', '1개월수익률',\n",
       "       '3개월수익률', '6개월수익률'],\n",
       "      dtype='object')"
      ]
     },
     "metadata": {},
     "execution_count": 103
    }
   ],
   "source": [
    "df.columns"
   ]
  },
  {
   "cell_type": "code",
   "execution_count": 111,
   "metadata": {},
   "outputs": [
    {
     "output_type": "execute_result",
     "data": {
      "text/plain": [
       "NAV       4.242362e+04\n",
       "시가        4.218000e+04\n",
       "고가        4.243500e+04\n",
       "저가        4.209000e+04\n",
       "종가        4.233000e+04\n",
       "거래량       5.575783e+06\n",
       "거래대금      2.357258e+11\n",
       "기초지수      4.173100e+02\n",
       "1개월수익률    6.180176e-01\n",
       "3개월수익률    3.833333e+01\n",
       "6개월수익률    5.074786e+01\n",
       "Name: 2021-03-16 00:00:00, dtype: float64"
      ]
     },
     "metadata": {},
     "execution_count": 111
    }
   ],
   "source": [
    "df.loc['2021-03-16']"
   ]
  },
  {
   "cell_type": "code",
   "execution_count": 47,
   "metadata": {},
   "outputs": [],
   "source": [
    "from datetime import datetime, timedelta\n",
    "\n",
    "\n",
    "def get_etf_returns(start_date, getNum=10):\n",
    "    '''\n",
    "        start_date의 모든 ETF의 1~6개월 수익률을 구한다.\n",
    "        상대적 모멘텀\n",
    "    '''\n",
    "\n",
    "    path_dir = './ETF'\n",
    "\n",
    "    start_day = datetime.strptime(start_date,'%Y-%m-%d')\n",
    "    columns = ['name', 'code', '1개월수익률', '2개월수익률', '3개월수익률', '4개월수익률', '5개월수익률', '6개월수익률']\n",
    "    rows=[]\n",
    "    file_list = os.listdir(path_dir)\n",
    "\n",
    "    for file in file_list:\n",
    "        # 데이터 가져오기\n",
    "        df = pd.read_excel(f\"ETF/{file}\", index_col=0)\n",
    "\n",
    "        # 날짜 체크\n",
    "        start_date_ok = 0\n",
    "        for n in range(7):\n",
    "            try:\n",
    "                if(not df.loc[start_day+timedelta(days=n)].empty):\n",
    "                    #print(start_day+timedelta(days=n))\n",
    "                    start_day = start_day+timedelta(days=n)\n",
    "                    start_date_ok = 1\n",
    "                    break\n",
    "            except KeyError:\n",
    "                #print(\"Can't find date:\")\n",
    "                continue    \n",
    "\n",
    "        if start_date_ok != 1:\n",
    "            #print(\"can't find start date\")\n",
    "            break\n",
    "        \n",
    "        #수익률=(df.iloc[-1]['종가']/df.iloc[0]['종가']-1)*100\n",
    "        ticker = file.split('.')[0]\n",
    "        #print(start_day, ticker)\n",
    "        \n",
    "        rows.append([stock.get_etf_ticker_name(ticker), ticker, df.loc[start_day,'1개월수익률'], df.loc[start_day,'2개월수익률'], df.loc[start_day,'3개월수익률'], df.loc                           [start_day,'4개월수익률'], df.loc[start_day,'5개월수익률'], df.loc[start_day,'6개월수익률']])\n",
    "\n",
    "    df = pd.DataFrame(rows, columns=columns)\n",
    "    df = df.fillna(0)\n",
    "    df = df.sort_values(by='6개월수익률', ascending=False)\n",
    "    df = df[:getNum]\n",
    "    \n",
    "    #df = df.sort_values(by='returns', ascending=False)\n",
    "    return df\n",
    "\n",
    "\n",
    "def get_abs_etf_returns(relMomt, date):\n",
    "    '''\n",
    "        절대적 모멘텀\n",
    "        상대적 메멘텀으로 가져온 종목들의 1개월 수익률을 구하고\n",
    "        특정 수익과 비교\n",
    "        낮으면 매도\n",
    "        높으면 유지\n",
    "    '''\n",
    "    date = datetime.strptime(date,'%Y-%m-%d')\n",
    "    for _, row in relMomt.iterrows():\n",
    "        #print(row[1])\n",
    "        df = pd.read_excel(f\"ETF/{row[1]}.xlsx\", index_col=0)\n",
    "        # 날짜 체크\n",
    "        for n in range(7):\n",
    "            try:\n",
    "                #df.loc[date+timedelta(days=n)]\n",
    "                #print(start_day+timedelta(days=n))\n",
    "                date = date+timedelta(days=n)\n",
    "                date_ok = 1\n",
    "                break\n",
    "            except KeyError:\n",
    "                #print(\"Can't find date:\")\n",
    "                continue\n",
    "\n",
    "        if date_ok != 1:\n",
    "            #print(\"can't find start date\")\n",
    "            break;\n",
    "\n",
    "        print(stock.get_etf_ticker_name(row[1]), row[1], df.loc[date, '1개월수익률'])\n",
    "\n",
    "\n",
    "\n"
   ]
  },
  {
   "cell_type": "code",
   "execution_count": 49,
   "metadata": {
    "tags": []
   },
   "outputs": [
    {
     "output_type": "stream",
     "name": "stdout",
     "text": [
      "can't find start date\n"
     ]
    },
    {
     "output_type": "execute_result",
     "data": {
      "text/plain": [
       "                  name    code    1개월수익률     2개월수익률      3개월수익률     4개월수익률  \\\n",
       "5   TIGER 200에너지화학레버리지  243890 -5.800125  49.305556  109.221501  85.040984   \n",
       "8         TIGER 200 IT  139260 -1.958369  36.722776   51.966399  55.559898   \n",
       "9         KODEX KTOP30  229720 -3.649635  21.675007   35.642983  32.796781   \n",
       "18   ARIRANG KS모멘텀가중TR  333960 -3.978622  18.766067   30.772341  25.543478   \n",
       "3          TIGER 소프트웨어  157490  5.552070  23.895434   25.419307  14.689843   \n",
       "\n",
       "        5개월수익률      6개월수익률  \n",
       "5   173.636364  190.167095  \n",
       "8    63.752314   62.947799  \n",
       "9    49.902661   54.515050  \n",
       "18   35.996636   44.568619  \n",
       "3    29.026074   43.926433  "
      ],
      "text/html": "<div>\n<style scoped>\n    .dataframe tbody tr th:only-of-type {\n        vertical-align: middle;\n    }\n\n    .dataframe tbody tr th {\n        vertical-align: top;\n    }\n\n    .dataframe thead th {\n        text-align: right;\n    }\n</style>\n<table border=\"1\" class=\"dataframe\">\n  <thead>\n    <tr style=\"text-align: right;\">\n      <th></th>\n      <th>name</th>\n      <th>code</th>\n      <th>1개월수익률</th>\n      <th>2개월수익률</th>\n      <th>3개월수익률</th>\n      <th>4개월수익률</th>\n      <th>5개월수익률</th>\n      <th>6개월수익률</th>\n    </tr>\n  </thead>\n  <tbody>\n    <tr>\n      <th>5</th>\n      <td>TIGER 200에너지화학레버리지</td>\n      <td>243890</td>\n      <td>-5.800125</td>\n      <td>49.305556</td>\n      <td>109.221501</td>\n      <td>85.040984</td>\n      <td>173.636364</td>\n      <td>190.167095</td>\n    </tr>\n    <tr>\n      <th>8</th>\n      <td>TIGER 200 IT</td>\n      <td>139260</td>\n      <td>-1.958369</td>\n      <td>36.722776</td>\n      <td>51.966399</td>\n      <td>55.559898</td>\n      <td>63.752314</td>\n      <td>62.947799</td>\n    </tr>\n    <tr>\n      <th>9</th>\n      <td>KODEX KTOP30</td>\n      <td>229720</td>\n      <td>-3.649635</td>\n      <td>21.675007</td>\n      <td>35.642983</td>\n      <td>32.796781</td>\n      <td>49.902661</td>\n      <td>54.515050</td>\n    </tr>\n    <tr>\n      <th>18</th>\n      <td>ARIRANG KS모멘텀가중TR</td>\n      <td>333960</td>\n      <td>-3.978622</td>\n      <td>18.766067</td>\n      <td>30.772341</td>\n      <td>25.543478</td>\n      <td>35.996636</td>\n      <td>44.568619</td>\n    </tr>\n    <tr>\n      <th>3</th>\n      <td>TIGER 소프트웨어</td>\n      <td>157490</td>\n      <td>5.552070</td>\n      <td>23.895434</td>\n      <td>25.419307</td>\n      <td>14.689843</td>\n      <td>29.026074</td>\n      <td>43.926433</td>\n    </tr>\n  </tbody>\n</table>\n</div>"
     },
     "metadata": {},
     "execution_count": 49
    }
   ],
   "source": [
    "df = get_etf_returns(\"2021-03-01\", 5)\n",
    "df\n"
   ]
  },
  {
   "cell_type": "code",
   "execution_count": 50,
   "metadata": {},
   "outputs": [
    {
     "output_type": "stream",
     "name": "stdout",
     "text": [
      "can't find start date\n"
     ]
    },
    {
     "output_type": "execute_result",
     "data": {
      "text/plain": [
       "                   name    code     1개월수익률     2개월수익률      3개월수익률     4개월수익률  \\\n",
       "5    TIGER 200에너지화학레버리지  243890  -5.800125  49.305556  109.221501  85.040984   \n",
       "8          TIGER 200 IT  139260  -1.958369  36.722776   51.966399  55.559898   \n",
       "9          KODEX KTOP30  229720  -3.649635  21.675007   35.642983  32.796781   \n",
       "18    ARIRANG KS모멘텀가중TR  333960  -3.978622  18.766067   30.772341  25.543478   \n",
       "3           TIGER 소프트웨어  157490   5.552070  23.895434   25.419307  14.689843   \n",
       "7          TIGER KRX300  292160  -3.891245  19.919079   31.501706  33.091537   \n",
       "13         KINDEX 스마트밸류  272230  -2.753442  22.410398   34.081104  35.424837   \n",
       "12     KODEX WTI원유선물(H)  261220  13.207547  33.136095   42.630745  33.432172   \n",
       "1   ARIRANG 심천차이넥스트(합성)  256450  -1.384615  16.704597   12.111937   9.292413   \n",
       "19             TIGER 증권  157500  -7.684320   7.108434   22.451791  20.135135   \n",
       "17          KBSTAR 헬스케어  253280 -15.463646  -6.715116    4.289893  -5.115316   \n",
       "4            KODEX 기계장비  102960  -7.461240   2.139037   20.125786  17.610837   \n",
       "16     KINDEX Fn성장소비주도주  226380  -1.208054  10.510511   13.405239   9.687034   \n",
       "10           TIGER 의료기기  307510 -11.675000  -9.757344  -15.112926 -11.939182   \n",
       "2   TIGER 일본TOPIX(합성 H)  195920   1.070386   5.986395   14.727541  17.451941   \n",
       "\n",
       "        5개월수익률      6개월수익률  \n",
       "5   173.636364  190.167095  \n",
       "8    63.752314   62.947799  \n",
       "9    49.902661   54.515050  \n",
       "18   35.996636   44.568619  \n",
       "3    29.026074   43.926433  \n",
       "7    41.863034   43.234201  \n",
       "13   43.888889   42.438130  \n",
       "12   40.845070   40.734949  \n",
       "1     9.479078   37.775390  \n",
       "19   37.403400   31.703704  \n",
       "17   10.655172   27.695981  \n",
       "4    26.155878   17.755857  \n",
       "16   13.667954   17.011129  \n",
       "10    5.180113   16.178889  \n",
       "2    19.204285   14.939137  "
      ],
      "text/html": "<div>\n<style scoped>\n    .dataframe tbody tr th:only-of-type {\n        vertical-align: middle;\n    }\n\n    .dataframe tbody tr th {\n        vertical-align: top;\n    }\n\n    .dataframe thead th {\n        text-align: right;\n    }\n</style>\n<table border=\"1\" class=\"dataframe\">\n  <thead>\n    <tr style=\"text-align: right;\">\n      <th></th>\n      <th>name</th>\n      <th>code</th>\n      <th>1개월수익률</th>\n      <th>2개월수익률</th>\n      <th>3개월수익률</th>\n      <th>4개월수익률</th>\n      <th>5개월수익률</th>\n      <th>6개월수익률</th>\n    </tr>\n  </thead>\n  <tbody>\n    <tr>\n      <th>5</th>\n      <td>TIGER 200에너지화학레버리지</td>\n      <td>243890</td>\n      <td>-5.800125</td>\n      <td>49.305556</td>\n      <td>109.221501</td>\n      <td>85.040984</td>\n      <td>173.636364</td>\n      <td>190.167095</td>\n    </tr>\n    <tr>\n      <th>8</th>\n      <td>TIGER 200 IT</td>\n      <td>139260</td>\n      <td>-1.958369</td>\n      <td>36.722776</td>\n      <td>51.966399</td>\n      <td>55.559898</td>\n      <td>63.752314</td>\n      <td>62.947799</td>\n    </tr>\n    <tr>\n      <th>9</th>\n      <td>KODEX KTOP30</td>\n      <td>229720</td>\n      <td>-3.649635</td>\n      <td>21.675007</td>\n      <td>35.642983</td>\n      <td>32.796781</td>\n      <td>49.902661</td>\n      <td>54.515050</td>\n    </tr>\n    <tr>\n      <th>18</th>\n      <td>ARIRANG KS모멘텀가중TR</td>\n      <td>333960</td>\n      <td>-3.978622</td>\n      <td>18.766067</td>\n      <td>30.772341</td>\n      <td>25.543478</td>\n      <td>35.996636</td>\n      <td>44.568619</td>\n    </tr>\n    <tr>\n      <th>3</th>\n      <td>TIGER 소프트웨어</td>\n      <td>157490</td>\n      <td>5.552070</td>\n      <td>23.895434</td>\n      <td>25.419307</td>\n      <td>14.689843</td>\n      <td>29.026074</td>\n      <td>43.926433</td>\n    </tr>\n    <tr>\n      <th>7</th>\n      <td>TIGER KRX300</td>\n      <td>292160</td>\n      <td>-3.891245</td>\n      <td>19.919079</td>\n      <td>31.501706</td>\n      <td>33.091537</td>\n      <td>41.863034</td>\n      <td>43.234201</td>\n    </tr>\n    <tr>\n      <th>13</th>\n      <td>KINDEX 스마트밸류</td>\n      <td>272230</td>\n      <td>-2.753442</td>\n      <td>22.410398</td>\n      <td>34.081104</td>\n      <td>35.424837</td>\n      <td>43.888889</td>\n      <td>42.438130</td>\n    </tr>\n    <tr>\n      <th>12</th>\n      <td>KODEX WTI원유선물(H)</td>\n      <td>261220</td>\n      <td>13.207547</td>\n      <td>33.136095</td>\n      <td>42.630745</td>\n      <td>33.432172</td>\n      <td>40.845070</td>\n      <td>40.734949</td>\n    </tr>\n    <tr>\n      <th>1</th>\n      <td>ARIRANG 심천차이넥스트(합성)</td>\n      <td>256450</td>\n      <td>-1.384615</td>\n      <td>16.704597</td>\n      <td>12.111937</td>\n      <td>9.292413</td>\n      <td>9.479078</td>\n      <td>37.775390</td>\n    </tr>\n    <tr>\n      <th>19</th>\n      <td>TIGER 증권</td>\n      <td>157500</td>\n      <td>-7.684320</td>\n      <td>7.108434</td>\n      <td>22.451791</td>\n      <td>20.135135</td>\n      <td>37.403400</td>\n      <td>31.703704</td>\n    </tr>\n    <tr>\n      <th>17</th>\n      <td>KBSTAR 헬스케어</td>\n      <td>253280</td>\n      <td>-15.463646</td>\n      <td>-6.715116</td>\n      <td>4.289893</td>\n      <td>-5.115316</td>\n      <td>10.655172</td>\n      <td>27.695981</td>\n    </tr>\n    <tr>\n      <th>4</th>\n      <td>KODEX 기계장비</td>\n      <td>102960</td>\n      <td>-7.461240</td>\n      <td>2.139037</td>\n      <td>20.125786</td>\n      <td>17.610837</td>\n      <td>26.155878</td>\n      <td>17.755857</td>\n    </tr>\n    <tr>\n      <th>16</th>\n      <td>KINDEX Fn성장소비주도주</td>\n      <td>226380</td>\n      <td>-1.208054</td>\n      <td>10.510511</td>\n      <td>13.405239</td>\n      <td>9.687034</td>\n      <td>13.667954</td>\n      <td>17.011129</td>\n    </tr>\n    <tr>\n      <th>10</th>\n      <td>TIGER 의료기기</td>\n      <td>307510</td>\n      <td>-11.675000</td>\n      <td>-9.757344</td>\n      <td>-15.112926</td>\n      <td>-11.939182</td>\n      <td>5.180113</td>\n      <td>16.178889</td>\n    </tr>\n    <tr>\n      <th>2</th>\n      <td>TIGER 일본TOPIX(합성 H)</td>\n      <td>195920</td>\n      <td>1.070386</td>\n      <td>5.986395</td>\n      <td>14.727541</td>\n      <td>17.451941</td>\n      <td>19.204285</td>\n      <td>14.939137</td>\n    </tr>\n  </tbody>\n</table>\n</div>"
     },
     "metadata": {},
     "execution_count": 50
    }
   ],
   "source": [
    "df = get_etf_returns(\"2021-03-01\", 15)\n",
    "df"
   ]
  },
  {
   "cell_type": "code",
   "execution_count": 38,
   "metadata": {
    "tags": []
   },
   "outputs": [
    {
     "output_type": "stream",
     "name": "stdout",
     "text": [
      "TIGER 200에너지화학레버리지 243890 -17.56935270805813\n",
      "TIGER 200IT레버리지 243880 -12.24021420374857\n",
      "TIGER 레버리지 123320 -2.602372751626481\n",
      "HANARO 200선물레버리지 304780 -2.412645590682194\n",
      "KINDEX 레버리지 152500 -2.933088909257564\n",
      "ARIRANG 200선물레버리지 253150 -2.309700743121113\n",
      "KBSTAR 200선물레버리지 252400 -2.411799880406618\n",
      "KODEX 레버리지 122630 -2.644927536231889\n",
      "KOSEF 200선물레버리지 253250 -2.443950717026866\n",
      "KODEX 2차전지산업 305720 -11.52998776009792\n"
     ]
    }
   ],
   "source": [
    "get_abs_etf_returns(df, \"2021-04-01\")\n",
    "\n"
   ]
  },
  {
   "cell_type": "code",
   "execution_count": 223,
   "metadata": {},
   "outputs": [
    {
     "output_type": "execute_result",
     "data": {
      "text/plain": [
       "                           name    code  1개월수익률  2개월수익률  3개월수익률  4개월수익률  \\\n",
       "453                    KODEX 운송  140710   14.73   21.31   30.49   65.34   \n",
       "427      TIGER 차이나CSI300인버스(합성)  217780   13.83   -2.45   -8.47  -12.29   \n",
       "337                    KODEX 철강  117680   12.92   16.67   35.91   47.43   \n",
       "287             TIGER 유로스탁스배당30  245350   12.23   15.83   20.57   26.73   \n",
       "170       TIGER 유로스탁스레버리지(합성 H)  225050   12.13   21.45   28.58   45.34   \n",
       "105          KODEX 미국S&P산업재(합성)  200030   11.65   15.90   15.26   22.53   \n",
       "140                    TIGER 은행  091220   11.49   16.99   14.48   36.56   \n",
       "201               TIGER 200 중공업  139230   11.21    8.36   18.47   34.25   \n",
       "231               KBSTAR 200중공업  285010   11.12    8.22   17.98   33.77   \n",
       "270                    KODEX 은행  091170   10.94   16.35   14.22   36.06   \n",
       "112    ARIRANG 미국다우존스고배당주(합성 H)  213630   10.80   20.71   22.86   36.86   \n",
       "86           KODEX 미국S&P에너지(합성)  218420   10.53   31.87   35.75   54.06   \n",
       "122              KBSTAR 200철강소재  285020   10.22   15.72   35.08   50.27   \n",
       "234  KBSTAR 미국장기국채선물인버스2X(합성 H)  267500    9.94   21.22   23.47   24.69   \n",
       "49               TIGER 200 철강소재  139240    9.87   14.58   34.86   49.74   \n",
       "370                   KOSEF 고배당  104530    9.77   14.41   17.28   32.95   \n",
       "345           ARIRANG S&P글로벌인프라  269530    9.52   11.77    9.94   15.90   \n",
       "266             KBSTAR 팔라듐선물(H)  334690    9.44    5.49   11.05    8.90   \n",
       "240                TIGER 코스피고배당  210780    9.16   17.47   23.36   37.88   \n",
       "310                    KODEX 보험  140700    9.00    9.47   12.13   22.59   \n",
       "\n",
       "     5개월수익률  6개월수익률  \n",
       "453   89.48   88.89  \n",
       "427  -11.59  -11.39  \n",
       "337   51.19   55.70  \n",
       "287   24.61   26.28  \n",
       "170   38.24   37.52  \n",
       "105   22.84   35.16  \n",
       "140   39.63   40.41  \n",
       "201   38.65   40.80  \n",
       "231   38.13   39.81  \n",
       "270   38.43   40.06  \n",
       "112   37.86   44.62  \n",
       "86    26.69   23.42  \n",
       "122   53.30   60.52  \n",
       "234   27.66   27.77  \n",
       "49    53.31   60.09  \n",
       "370   42.12   42.94  \n",
       "345   11.39   14.74  \n",
       "266   16.77   31.26  \n",
       "240   48.53   51.08  \n",
       "310   26.57   30.95  "
      ],
      "text/html": "<div>\n<style scoped>\n    .dataframe tbody tr th:only-of-type {\n        vertical-align: middle;\n    }\n\n    .dataframe tbody tr th {\n        vertical-align: top;\n    }\n\n    .dataframe thead th {\n        text-align: right;\n    }\n</style>\n<table border=\"1\" class=\"dataframe\">\n  <thead>\n    <tr style=\"text-align: right;\">\n      <th></th>\n      <th>name</th>\n      <th>code</th>\n      <th>1개월수익률</th>\n      <th>2개월수익률</th>\n      <th>3개월수익률</th>\n      <th>4개월수익률</th>\n      <th>5개월수익률</th>\n      <th>6개월수익률</th>\n    </tr>\n  </thead>\n  <tbody>\n    <tr>\n      <th>453</th>\n      <td>KODEX 운송</td>\n      <td>140710</td>\n      <td>14.73</td>\n      <td>21.31</td>\n      <td>30.49</td>\n      <td>65.34</td>\n      <td>89.48</td>\n      <td>88.89</td>\n    </tr>\n    <tr>\n      <th>427</th>\n      <td>TIGER 차이나CSI300인버스(합성)</td>\n      <td>217780</td>\n      <td>13.83</td>\n      <td>-2.45</td>\n      <td>-8.47</td>\n      <td>-12.29</td>\n      <td>-11.59</td>\n      <td>-11.39</td>\n    </tr>\n    <tr>\n      <th>337</th>\n      <td>KODEX 철강</td>\n      <td>117680</td>\n      <td>12.92</td>\n      <td>16.67</td>\n      <td>35.91</td>\n      <td>47.43</td>\n      <td>51.19</td>\n      <td>55.70</td>\n    </tr>\n    <tr>\n      <th>287</th>\n      <td>TIGER 유로스탁스배당30</td>\n      <td>245350</td>\n      <td>12.23</td>\n      <td>15.83</td>\n      <td>20.57</td>\n      <td>26.73</td>\n      <td>24.61</td>\n      <td>26.28</td>\n    </tr>\n    <tr>\n      <th>170</th>\n      <td>TIGER 유로스탁스레버리지(합성 H)</td>\n      <td>225050</td>\n      <td>12.13</td>\n      <td>21.45</td>\n      <td>28.58</td>\n      <td>45.34</td>\n      <td>38.24</td>\n      <td>37.52</td>\n    </tr>\n    <tr>\n      <th>105</th>\n      <td>KODEX 미국S&amp;P산업재(합성)</td>\n      <td>200030</td>\n      <td>11.65</td>\n      <td>15.90</td>\n      <td>15.26</td>\n      <td>22.53</td>\n      <td>22.84</td>\n      <td>35.16</td>\n    </tr>\n    <tr>\n      <th>140</th>\n      <td>TIGER 은행</td>\n      <td>091220</td>\n      <td>11.49</td>\n      <td>16.99</td>\n      <td>14.48</td>\n      <td>36.56</td>\n      <td>39.63</td>\n      <td>40.41</td>\n    </tr>\n    <tr>\n      <th>201</th>\n      <td>TIGER 200 중공업</td>\n      <td>139230</td>\n      <td>11.21</td>\n      <td>8.36</td>\n      <td>18.47</td>\n      <td>34.25</td>\n      <td>38.65</td>\n      <td>40.80</td>\n    </tr>\n    <tr>\n      <th>231</th>\n      <td>KBSTAR 200중공업</td>\n      <td>285010</td>\n      <td>11.12</td>\n      <td>8.22</td>\n      <td>17.98</td>\n      <td>33.77</td>\n      <td>38.13</td>\n      <td>39.81</td>\n    </tr>\n    <tr>\n      <th>270</th>\n      <td>KODEX 은행</td>\n      <td>091170</td>\n      <td>10.94</td>\n      <td>16.35</td>\n      <td>14.22</td>\n      <td>36.06</td>\n      <td>38.43</td>\n      <td>40.06</td>\n    </tr>\n    <tr>\n      <th>112</th>\n      <td>ARIRANG 미국다우존스고배당주(합성 H)</td>\n      <td>213630</td>\n      <td>10.80</td>\n      <td>20.71</td>\n      <td>22.86</td>\n      <td>36.86</td>\n      <td>37.86</td>\n      <td>44.62</td>\n    </tr>\n    <tr>\n      <th>86</th>\n      <td>KODEX 미국S&amp;P에너지(합성)</td>\n      <td>218420</td>\n      <td>10.53</td>\n      <td>31.87</td>\n      <td>35.75</td>\n      <td>54.06</td>\n      <td>26.69</td>\n      <td>23.42</td>\n    </tr>\n    <tr>\n      <th>122</th>\n      <td>KBSTAR 200철강소재</td>\n      <td>285020</td>\n      <td>10.22</td>\n      <td>15.72</td>\n      <td>35.08</td>\n      <td>50.27</td>\n      <td>53.30</td>\n      <td>60.52</td>\n    </tr>\n    <tr>\n      <th>234</th>\n      <td>KBSTAR 미국장기국채선물인버스2X(합성 H)</td>\n      <td>267500</td>\n      <td>9.94</td>\n      <td>21.22</td>\n      <td>23.47</td>\n      <td>24.69</td>\n      <td>27.66</td>\n      <td>27.77</td>\n    </tr>\n    <tr>\n      <th>49</th>\n      <td>TIGER 200 철강소재</td>\n      <td>139240</td>\n      <td>9.87</td>\n      <td>14.58</td>\n      <td>34.86</td>\n      <td>49.74</td>\n      <td>53.31</td>\n      <td>60.09</td>\n    </tr>\n    <tr>\n      <th>370</th>\n      <td>KOSEF 고배당</td>\n      <td>104530</td>\n      <td>9.77</td>\n      <td>14.41</td>\n      <td>17.28</td>\n      <td>32.95</td>\n      <td>42.12</td>\n      <td>42.94</td>\n    </tr>\n    <tr>\n      <th>345</th>\n      <td>ARIRANG S&amp;P글로벌인프라</td>\n      <td>269530</td>\n      <td>9.52</td>\n      <td>11.77</td>\n      <td>9.94</td>\n      <td>15.90</td>\n      <td>11.39</td>\n      <td>14.74</td>\n    </tr>\n    <tr>\n      <th>266</th>\n      <td>KBSTAR 팔라듐선물(H)</td>\n      <td>334690</td>\n      <td>9.44</td>\n      <td>5.49</td>\n      <td>11.05</td>\n      <td>8.90</td>\n      <td>16.77</td>\n      <td>31.26</td>\n    </tr>\n    <tr>\n      <th>240</th>\n      <td>TIGER 코스피고배당</td>\n      <td>210780</td>\n      <td>9.16</td>\n      <td>17.47</td>\n      <td>23.36</td>\n      <td>37.88</td>\n      <td>48.53</td>\n      <td>51.08</td>\n    </tr>\n    <tr>\n      <th>310</th>\n      <td>KODEX 보험</td>\n      <td>140700</td>\n      <td>9.00</td>\n      <td>9.47</td>\n      <td>12.13</td>\n      <td>22.59</td>\n      <td>26.57</td>\n      <td>30.95</td>\n    </tr>\n  </tbody>\n</table>\n</div>"
     },
     "metadata": {},
     "execution_count": 223
    }
   ],
   "source": [
    "pd.options.display.float_format = '{:.2f}'.format\n",
    "df = df.sort_values(by='1개월수익률', ascending=False)\n",
    "df.head(20)\n",
    "\n"
   ]
  },
  {
   "cell_type": "code",
   "execution_count": 28,
   "metadata": {},
   "outputs": [
    {
     "output_type": "stream",
     "name": "stdout",
     "text": [
      "keyError\nT\nT\nkeyError\nkeyError\nT\nT\n"
     ]
    }
   ],
   "source": [
    "#df.loc[\"2020-01-01\"]\n",
    "from datetime import datetime, timedelta\n",
    "date = datetime.strptime(\"2020-01-01\",'%Y-%m-%d')\n",
    "date.weekday()\n",
    "df = pd.read_excel(f\"ETF/069500.xlsx\", index_col=0) # KODEX 200\n",
    "\n",
    "for n in range(7):\n",
    "    try:\n",
    "        if(not df.loc[date+timedelta(days=n)].empty):\n",
    "            print(\"T\")\n",
    "        #print(date+timedelta(days=n))\n",
    "    except KeyError:\n",
    "        print(\"keyError\")\n",
    "        continue"
   ]
  },
  {
   "cell_type": "code",
   "execution_count": 133,
   "metadata": {},
   "outputs": [
    {
     "output_type": "execute_result",
     "data": {
      "text/plain": [
       "49925.0"
      ]
     },
     "metadata": {},
     "execution_count": 133
    }
   ],
   "source": [
    "df.loc[\"2018-07-20\", '종가']"
   ]
  },
  {
   "cell_type": "code",
   "execution_count": 32,
   "metadata": {},
   "outputs": [
    {
     "output_type": "execute_result",
     "data": {
      "text/plain": [
       "                NAV    시가    고가    저가    종가      거래량         거래대금   기초지수  \\\n",
       "날짜                                                                         \n",
       "2002-10-14  7727.89  7800  8000  7590  7750  2577230  19915990000  77.27   \n",
       "2002-10-15  7921.53  7850  7980  7700  7940  2288769  17893721760  79.21   \n",
       "\n",
       "            1개월수익률  3개월수익률  6개월수익률  \n",
       "날짜                                  \n",
       "2002-10-14     0.0     0.0     0.0  \n",
       "2002-10-15     0.0     0.0     0.0  "
      ],
      "text/html": "<div>\n<style scoped>\n    .dataframe tbody tr th:only-of-type {\n        vertical-align: middle;\n    }\n\n    .dataframe tbody tr th {\n        vertical-align: top;\n    }\n\n    .dataframe thead th {\n        text-align: right;\n    }\n</style>\n<table border=\"1\" class=\"dataframe\">\n  <thead>\n    <tr style=\"text-align: right;\">\n      <th></th>\n      <th>NAV</th>\n      <th>시가</th>\n      <th>고가</th>\n      <th>저가</th>\n      <th>종가</th>\n      <th>거래량</th>\n      <th>거래대금</th>\n      <th>기초지수</th>\n      <th>1개월수익률</th>\n      <th>3개월수익률</th>\n      <th>6개월수익률</th>\n    </tr>\n    <tr>\n      <th>날짜</th>\n      <th></th>\n      <th></th>\n      <th></th>\n      <th></th>\n      <th></th>\n      <th></th>\n      <th></th>\n      <th></th>\n      <th></th>\n      <th></th>\n      <th></th>\n    </tr>\n  </thead>\n  <tbody>\n    <tr>\n      <th>2002-10-14</th>\n      <td>7727.89</td>\n      <td>7800</td>\n      <td>8000</td>\n      <td>7590</td>\n      <td>7750</td>\n      <td>2577230</td>\n      <td>19915990000</td>\n      <td>77.27</td>\n      <td>0.0</td>\n      <td>0.0</td>\n      <td>0.0</td>\n    </tr>\n    <tr>\n      <th>2002-10-15</th>\n      <td>7921.53</td>\n      <td>7850</td>\n      <td>7980</td>\n      <td>7700</td>\n      <td>7940</td>\n      <td>2288769</td>\n      <td>17893721760</td>\n      <td>79.21</td>\n      <td>0.0</td>\n      <td>0.0</td>\n      <td>0.0</td>\n    </tr>\n  </tbody>\n</table>\n</div>"
     },
     "metadata": {},
     "execution_count": 32
    }
   ],
   "source": [
    "df[:2]"
   ]
  },
  {
   "cell_type": "code",
   "execution_count": 45,
   "metadata": {},
   "outputs": [],
   "source": [
    "df = pd.read_excel(f\"ETF/069500.xlsx\", index_col=0) # KODEX 200\n"
   ]
  },
  {
   "cell_type": "code",
   "execution_count": 46,
   "metadata": {},
   "outputs": [
    {
     "output_type": "execute_result",
     "data": {
      "text/plain": [
       "                 NAV     시가     고가     저가     종가      거래량          거래대금  \\\n",
       "날짜                                                                        \n",
       "2002-10-14   7727.89   7800   8000   7590   7750  2577230   19915990000   \n",
       "2002-10-15   7921.53   7850   7980   7700   7940  2288769   17893721760   \n",
       "2002-10-16   8010.07   8040   8040   7910   7970  2039150   16269042600   \n",
       "2002-10-17   8118.38   7980   8180   7870   8080  2091777   16837927960   \n",
       "2002-10-18   8456.22   8300   8500   8250   8430  1321300   11076949000   \n",
       "...              ...    ...    ...    ...    ...      ...           ...   \n",
       "2021-03-29  41885.36  42050  42060  41670  41830  6417371  268714517650   \n",
       "2021-03-30  42405.43  41940  42455  41940  42300  5099664  215601592100   \n",
       "2021-03-31  42242.86  42410  42695  42175  42185  7237093  306821963975   \n",
       "2021-04-01  42683.41  42485  42650  42315  42570  5221705  222156542815   \n",
       "2021-04-02  43117.77  42920  43190  42895  43045  5352010  230445530640   \n",
       "\n",
       "              기초지수    1개월수익률    2개월수익률     3개월수익률     4개월수익률     5개월수익률  \\\n",
       "날짜                                                                        \n",
       "2002-10-14   77.27       NaN       NaN        NaN        NaN        NaN   \n",
       "2002-10-15   79.21       NaN       NaN        NaN        NaN        NaN   \n",
       "2002-10-16   80.10       NaN       NaN        NaN        NaN        NaN   \n",
       "2002-10-17   81.16       NaN       NaN        NaN        NaN        NaN   \n",
       "2002-10-18   84.50       NaN       NaN        NaN        NaN        NaN   \n",
       "...            ...       ...       ...        ...        ...        ...   \n",
       "2021-03-29  412.05 -1.991565  9.963197  25.672225  35.833739  31.046366   \n",
       "2021-03-30  416.61 -2.320748  9.344707  24.430063  36.078494  35.316699   \n",
       "2021-03-31  415.04 -3.011840  6.797468  24.128292  34.240255  34.475614   \n",
       "2021-04-01  419.42 -1.057525  5.007400  25.390280  35.164312  41.147215   \n",
       "2021-04-02  423.79  1.497288  4.605103  26.621562  35.361635  40.601013   \n",
       "\n",
       "               6개월수익률     7개월수익률     8개월수익률     9개월수익률    10개월수익률    11개월수익률  \\\n",
       "날짜                                                                             \n",
       "2002-10-14        NaN        NaN        NaN        NaN        NaN        NaN   \n",
       "2002-10-15        NaN        NaN        NaN        NaN        NaN        NaN   \n",
       "2002-10-16        NaN        NaN        NaN        NaN        NaN        NaN   \n",
       "2002-10-17        NaN        NaN        NaN        NaN        NaN        NaN   \n",
       "2002-10-18        NaN        NaN        NaN        NaN        NaN        NaN   \n",
       "...               ...        ...        ...        ...        ...        ...   \n",
       "2021-03-29  45.876199  61.318936  70.456398  46.797684  40.227958  47.939876   \n",
       "2021-03-30  45.285935  61.112169  69.709127  46.824019  40.648379  49.575672   \n",
       "2021-03-31  46.653920  57.818930  71.763029  48.591053  38.834951  49.010950   \n",
       "2021-04-01  48.430962  59.169938  70.621242  51.521623  39.436620  51.037786   \n",
       "2021-04-02  49.384001  60.465983  71.085056  58.311879  41.828666  55.397112   \n",
       "\n",
       "              12개월수익률  \n",
       "날짜                     \n",
       "2002-10-14        NaN  \n",
       "2002-10-15        NaN  \n",
       "2002-10-16        NaN  \n",
       "2002-10-17        NaN  \n",
       "2002-10-18        NaN  \n",
       "...               ...  \n",
       "2021-03-29  52.026168  \n",
       "2021-03-30  53.539020  \n",
       "2021-03-31  52.264934  \n",
       "2021-04-01  54.155350  \n",
       "2021-04-02  57.443307  \n",
       "\n",
       "[4569 rows x 20 columns]"
      ],
      "text/html": "<div>\n<style scoped>\n    .dataframe tbody tr th:only-of-type {\n        vertical-align: middle;\n    }\n\n    .dataframe tbody tr th {\n        vertical-align: top;\n    }\n\n    .dataframe thead th {\n        text-align: right;\n    }\n</style>\n<table border=\"1\" class=\"dataframe\">\n  <thead>\n    <tr style=\"text-align: right;\">\n      <th></th>\n      <th>NAV</th>\n      <th>시가</th>\n      <th>고가</th>\n      <th>저가</th>\n      <th>종가</th>\n      <th>거래량</th>\n      <th>거래대금</th>\n      <th>기초지수</th>\n      <th>1개월수익률</th>\n      <th>2개월수익률</th>\n      <th>3개월수익률</th>\n      <th>4개월수익률</th>\n      <th>5개월수익률</th>\n      <th>6개월수익률</th>\n      <th>7개월수익률</th>\n      <th>8개월수익률</th>\n      <th>9개월수익률</th>\n      <th>10개월수익률</th>\n      <th>11개월수익률</th>\n      <th>12개월수익률</th>\n    </tr>\n    <tr>\n      <th>날짜</th>\n      <th></th>\n      <th></th>\n      <th></th>\n      <th></th>\n      <th></th>\n      <th></th>\n      <th></th>\n      <th></th>\n      <th></th>\n      <th></th>\n      <th></th>\n      <th></th>\n      <th></th>\n      <th></th>\n      <th></th>\n      <th></th>\n      <th></th>\n      <th></th>\n      <th></th>\n      <th></th>\n    </tr>\n  </thead>\n  <tbody>\n    <tr>\n      <th>2002-10-14</th>\n      <td>7727.89</td>\n      <td>7800</td>\n      <td>8000</td>\n      <td>7590</td>\n      <td>7750</td>\n      <td>2577230</td>\n      <td>19915990000</td>\n      <td>77.27</td>\n      <td>NaN</td>\n      <td>NaN</td>\n      <td>NaN</td>\n      <td>NaN</td>\n      <td>NaN</td>\n      <td>NaN</td>\n      <td>NaN</td>\n      <td>NaN</td>\n      <td>NaN</td>\n      <td>NaN</td>\n      <td>NaN</td>\n      <td>NaN</td>\n    </tr>\n    <tr>\n      <th>2002-10-15</th>\n      <td>7921.53</td>\n      <td>7850</td>\n      <td>7980</td>\n      <td>7700</td>\n      <td>7940</td>\n      <td>2288769</td>\n      <td>17893721760</td>\n      <td>79.21</td>\n      <td>NaN</td>\n      <td>NaN</td>\n      <td>NaN</td>\n      <td>NaN</td>\n      <td>NaN</td>\n      <td>NaN</td>\n      <td>NaN</td>\n      <td>NaN</td>\n      <td>NaN</td>\n      <td>NaN</td>\n      <td>NaN</td>\n      <td>NaN</td>\n    </tr>\n    <tr>\n      <th>2002-10-16</th>\n      <td>8010.07</td>\n      <td>8040</td>\n      <td>8040</td>\n      <td>7910</td>\n      <td>7970</td>\n      <td>2039150</td>\n      <td>16269042600</td>\n      <td>80.10</td>\n      <td>NaN</td>\n      <td>NaN</td>\n      <td>NaN</td>\n      <td>NaN</td>\n      <td>NaN</td>\n      <td>NaN</td>\n      <td>NaN</td>\n      <td>NaN</td>\n      <td>NaN</td>\n      <td>NaN</td>\n      <td>NaN</td>\n      <td>NaN</td>\n    </tr>\n    <tr>\n      <th>2002-10-17</th>\n      <td>8118.38</td>\n      <td>7980</td>\n      <td>8180</td>\n      <td>7870</td>\n      <td>8080</td>\n      <td>2091777</td>\n      <td>16837927960</td>\n      <td>81.16</td>\n      <td>NaN</td>\n      <td>NaN</td>\n      <td>NaN</td>\n      <td>NaN</td>\n      <td>NaN</td>\n      <td>NaN</td>\n      <td>NaN</td>\n      <td>NaN</td>\n      <td>NaN</td>\n      <td>NaN</td>\n      <td>NaN</td>\n      <td>NaN</td>\n    </tr>\n    <tr>\n      <th>2002-10-18</th>\n      <td>8456.22</td>\n      <td>8300</td>\n      <td>8500</td>\n      <td>8250</td>\n      <td>8430</td>\n      <td>1321300</td>\n      <td>11076949000</td>\n      <td>84.50</td>\n      <td>NaN</td>\n      <td>NaN</td>\n      <td>NaN</td>\n      <td>NaN</td>\n      <td>NaN</td>\n      <td>NaN</td>\n      <td>NaN</td>\n      <td>NaN</td>\n      <td>NaN</td>\n      <td>NaN</td>\n      <td>NaN</td>\n      <td>NaN</td>\n    </tr>\n    <tr>\n      <th>...</th>\n      <td>...</td>\n      <td>...</td>\n      <td>...</td>\n      <td>...</td>\n      <td>...</td>\n      <td>...</td>\n      <td>...</td>\n      <td>...</td>\n      <td>...</td>\n      <td>...</td>\n      <td>...</td>\n      <td>...</td>\n      <td>...</td>\n      <td>...</td>\n      <td>...</td>\n      <td>...</td>\n      <td>...</td>\n      <td>...</td>\n      <td>...</td>\n      <td>...</td>\n    </tr>\n    <tr>\n      <th>2021-03-29</th>\n      <td>41885.36</td>\n      <td>42050</td>\n      <td>42060</td>\n      <td>41670</td>\n      <td>41830</td>\n      <td>6417371</td>\n      <td>268714517650</td>\n      <td>412.05</td>\n      <td>-1.991565</td>\n      <td>9.963197</td>\n      <td>25.672225</td>\n      <td>35.833739</td>\n      <td>31.046366</td>\n      <td>45.876199</td>\n      <td>61.318936</td>\n      <td>70.456398</td>\n      <td>46.797684</td>\n      <td>40.227958</td>\n      <td>47.939876</td>\n      <td>52.026168</td>\n    </tr>\n    <tr>\n      <th>2021-03-30</th>\n      <td>42405.43</td>\n      <td>41940</td>\n      <td>42455</td>\n      <td>41940</td>\n      <td>42300</td>\n      <td>5099664</td>\n      <td>215601592100</td>\n      <td>416.61</td>\n      <td>-2.320748</td>\n      <td>9.344707</td>\n      <td>24.430063</td>\n      <td>36.078494</td>\n      <td>35.316699</td>\n      <td>45.285935</td>\n      <td>61.112169</td>\n      <td>69.709127</td>\n      <td>46.824019</td>\n      <td>40.648379</td>\n      <td>49.575672</td>\n      <td>53.539020</td>\n    </tr>\n    <tr>\n      <th>2021-03-31</th>\n      <td>42242.86</td>\n      <td>42410</td>\n      <td>42695</td>\n      <td>42175</td>\n      <td>42185</td>\n      <td>7237093</td>\n      <td>306821963975</td>\n      <td>415.04</td>\n      <td>-3.011840</td>\n      <td>6.797468</td>\n      <td>24.128292</td>\n      <td>34.240255</td>\n      <td>34.475614</td>\n      <td>46.653920</td>\n      <td>57.818930</td>\n      <td>71.763029</td>\n      <td>48.591053</td>\n      <td>38.834951</td>\n      <td>49.010950</td>\n      <td>52.264934</td>\n    </tr>\n    <tr>\n      <th>2021-04-01</th>\n      <td>42683.41</td>\n      <td>42485</td>\n      <td>42650</td>\n      <td>42315</td>\n      <td>42570</td>\n      <td>5221705</td>\n      <td>222156542815</td>\n      <td>419.42</td>\n      <td>-1.057525</td>\n      <td>5.007400</td>\n      <td>25.390280</td>\n      <td>35.164312</td>\n      <td>41.147215</td>\n      <td>48.430962</td>\n      <td>59.169938</td>\n      <td>70.621242</td>\n      <td>51.521623</td>\n      <td>39.436620</td>\n      <td>51.037786</td>\n      <td>54.155350</td>\n    </tr>\n    <tr>\n      <th>2021-04-02</th>\n      <td>43117.77</td>\n      <td>42920</td>\n      <td>43190</td>\n      <td>42895</td>\n      <td>43045</td>\n      <td>5352010</td>\n      <td>230445530640</td>\n      <td>423.79</td>\n      <td>1.497288</td>\n      <td>4.605103</td>\n      <td>26.621562</td>\n      <td>35.361635</td>\n      <td>40.601013</td>\n      <td>49.384001</td>\n      <td>60.465983</td>\n      <td>71.085056</td>\n      <td>58.311879</td>\n      <td>41.828666</td>\n      <td>55.397112</td>\n      <td>57.443307</td>\n    </tr>\n  </tbody>\n</table>\n<p>4569 rows × 20 columns</p>\n</div>"
     },
     "metadata": {},
     "execution_count": 46
    }
   ],
   "source": [
    "\n",
    "\n",
    "df"
   ]
  },
  {
   "cell_type": "code",
   "execution_count": 167,
   "metadata": {},
   "outputs": [],
   "source": [
    "\n",
    "\n",
    "def get_rltv_momentum(start_date, target_month=3, get_number=10):\n",
    "    '''\n",
    "        상대적 모멘텀\n",
    "        start_date : 시작 날짜\n",
    "        target_month : 몇달 수익률을 기준으로 정렬할 것 인가? 기본 3개월 수익률\n",
    "        get_number: 몇개의 상위 종목을 가져올 것인가, 기본 10개\n",
    "    '''\n",
    "\n",
    "    path_dir = './ETF/test'\n",
    "    target_month_col = f\"{target_month}개월수익률\"\n",
    "    start_day = datetime.strptime(start_date,'%Y-%m-%d')\n",
    "\n",
    "    columns = ['ticker', 'name', 'buy_date', 'buy_price',target_month_col]\n",
    "    rows=[]\n",
    "    index=[]\n",
    "    file_list = os.listdir(path_dir)\n",
    "\n",
    "    for file in file_list:\n",
    "        # 데이터 가져오기\n",
    "        if( file.split(\".\")[1]!=\"xlsx\"):\n",
    "            #print(file)\n",
    "            continue;\n",
    "\n",
    "        #print(f\"{path_dir}/{file}\")\n",
    "        df = pd.read_excel(f\"{path_dir}/{file}\", index_col=0)\n",
    "\n",
    "        # 날짜 체크\n",
    "        start_date_ok = 0\n",
    "        for n in range(7):\n",
    "            try:\n",
    "                if(not df.loc[start_day+timedelta(days=n)].empty):\n",
    "                    #print(start_day+timedelta(days=n))\n",
    "                    start_day = start_day+timedelta(days=n)\n",
    "                    start_date_ok = 1\n",
    "                    break\n",
    "            except KeyError:\n",
    "                #print(\"Can't find date:\")\n",
    "                continue    \n",
    "\n",
    "        if start_date_ok != 1:\n",
    "            #print(\"can't find start date\")\n",
    "            continue\n",
    "\n",
    "        ticker = file.split('.')[0]\n",
    "        #print(ticker)\n",
    "\n",
    "        # 수익률이 -이거나 NaN이면 생략한다.\n",
    "        if(df.loc[start_day, target_month_col]<0 or np.isnan(df.loc[start_day, target_month_col])):\n",
    "            continue\n",
    "\n",
    "        #index.append(ticker)\n",
    "        rows.append([ticker, stock.get_etf_ticker_name(ticker), start_day, df.loc[start_day,'종가'] ,df.loc[start_day, target_month_col]])\n",
    "\n",
    "\n",
    "    #df = pd.DataFrame(rows, index=index,  columns=columns)\n",
    "    df = pd.DataFrame(rows, columns=columns)\n",
    "    #df = df.fillna(0)\n",
    "    df = df.sort_values(by=target_month_col, ascending=False)\n",
    "    df = df[:get_number]\n",
    "    \n",
    "    #df = df.sort_values(by='returns', ascending=False)\n",
    "    return df\n"
   ]
  },
  {
   "cell_type": "code",
   "execution_count": 168,
   "metadata": {},
   "outputs": [
    {
     "output_type": "execute_result",
     "data": {
      "text/plain": [
       "   ticker              name   buy_date  buy_price    3개월수익률\n",
       "1  098560        TIGER 방송통신 2009-01-02       9630  4.959128\n",
       "0  101280  KODEX 일본TOPIX100 2009-01-02       8780  0.919540"
      ],
      "text/html": "<div>\n<style scoped>\n    .dataframe tbody tr th:only-of-type {\n        vertical-align: middle;\n    }\n\n    .dataframe tbody tr th {\n        vertical-align: top;\n    }\n\n    .dataframe thead th {\n        text-align: right;\n    }\n</style>\n<table border=\"1\" class=\"dataframe\">\n  <thead>\n    <tr style=\"text-align: right;\">\n      <th></th>\n      <th>ticker</th>\n      <th>name</th>\n      <th>buy_date</th>\n      <th>buy_price</th>\n      <th>3개월수익률</th>\n    </tr>\n  </thead>\n  <tbody>\n    <tr>\n      <th>1</th>\n      <td>098560</td>\n      <td>TIGER 방송통신</td>\n      <td>2009-01-02</td>\n      <td>9630</td>\n      <td>4.959128</td>\n    </tr>\n    <tr>\n      <th>0</th>\n      <td>101280</td>\n      <td>KODEX 일본TOPIX100</td>\n      <td>2009-01-02</td>\n      <td>8780</td>\n      <td>0.919540</td>\n    </tr>\n  </tbody>\n</table>\n</div>"
     },
     "metadata": {},
     "execution_count": 168
    }
   ],
   "source": [
    "start_date = \"2009-01-01\"\n",
    "end_date = \"2020-04-01\"\n",
    "target_month = 3\n",
    "PORTPOLIO_NUMBER = 10\n",
    "period = 30 # 1month\n",
    "\n",
    "rltv_mnt_df = get_rltv_momentum(start_date, 3, 10)\n",
    "rltv_mnt_df"
   ]
  },
  {
   "cell_type": "code",
   "execution_count": null,
   "metadata": {},
   "outputs": [],
   "source": []
  },
  {
   "cell_type": "code",
   "execution_count": 176,
   "metadata": {},
   "outputs": [],
   "source": [
    "port_rows=[]\n",
    "port_columns = ['ticker', 'name', 'buy_date', 'buy_price', 'buy_num', 'sell_date', 'sell_price', 'profit']\n",
    "\n",
    "myPort = pd.DataFrame(port_rows, columns=port_columns)\n",
    "\n",
    "\n",
    "def updatePortpolio(myPort, data, buy_sell):\n",
    "    '''\n",
    "    buy_sell : 1=> sell, 0=> buy\n",
    "    '''\n",
    "\n",
    "    if( len(myPort) < PORTPOLIO_NUMBER and buy_sell==1 ): # buy case\n",
    "\n",
    "            myPort = data.copy()\n",
    "\n",
    "            # TODO: update buy_price\n",
    "\n",
    "    elif( len(myPort)>0 and buy_sell==0 ): # sell case\n",
    "        for _, row in data.iterrows():\n",
    "            #print(row[0])\n",
    "            drop_index = myPort[myPort['ticker']==row[0]].index\n",
    "            #print(drop_index)\n",
    "            myPort.drop(drop_index, inplace=True)\n",
    "\n",
    "    return myPort\n",
    "#end of function\n"
   ]
  },
  {
   "cell_type": "code",
   "execution_count": 192,
   "metadata": {},
   "outputs": [
    {
     "output_type": "stream",
     "name": "stdout",
     "text": [
      "2009-05-01 00:00:00\n2009-05-01\n"
     ]
    }
   ],
   "source": [
    "\n",
    "start_date = start_date+timedelta(days=30)\n",
    "print(start_date)\n",
    "start_date = start_date.strftime(\"%Y-%m-%d\")\n",
    "print(start_date)"
   ]
  },
  {
   "cell_type": "code",
   "execution_count": 211,
   "metadata": {},
   "outputs": [
    {
     "output_type": "execute_result",
     "data": {
      "text/plain": [
       "'2009-05-01'"
      ]
     },
     "metadata": {},
     "execution_count": 211
    }
   ],
   "source": [
    "\n",
    "def getNextPeriodDate(str_date, period=30):\n",
    "    start_date = datetime.strptime(str_date,'%Y-%m-%d')\n",
    "    start_date = start_date+timedelta(days=period) # 리벨런싱 기간 후\n",
    "    start_date = start_date.strftime(\"%Y-%m-%d\")\n",
    "    return start_date\n",
    "\n",
    "\n",
    "getNextPeriodDate(\"2009-04-01\", 30)\n",
    "\n",
    "\n",
    "\n"
   ]
  },
  {
   "cell_type": "code",
   "execution_count": null,
   "metadata": {},
   "outputs": [],
   "source": [
    "\n",
    "# 절대적 모멘텀: 1개월 후 수익률이 0보다 작은 종목 리턴\n",
    "\n",
    "sel_code = get_abs_momentum(rltv_mnt_df, start_date, calc_period)\n",
    "\n",
    "get_rltv_number = PORTPOLIO_NUMBER - len(rltv_mnt_df) +len(sel_code) # 새로 매수할 종목 수 계산\n",
    "\n",
    "\n",
    "# 포트폴리오 업데이트: 매도\n",
    "\n",
    "myPortpolio = updatePortpolio(myPortpolio, 0, sel_code)\n",
    "\n",
    "\n",
    "\n",
    "myPort = updatePortpolio(myPort, rltv_mnt_df, 1)\n",
    "print(myPort)\n",
    "\n",
    "myPort = updatePortpolio(myPort, rltv_mnt_df, 0)\n",
    "len(myPort)"
   ]
  },
  {
   "cell_type": "code",
   "execution_count": 104,
   "metadata": {},
   "outputs": [
    {
     "output_type": "execute_result",
     "data": {
      "text/plain": [
       "2"
      ]
     },
     "metadata": {},
     "execution_count": 104
    }
   ],
   "source": [
    "len(rltv_mnt_df)"
   ]
  },
  {
   "cell_type": "code",
   "execution_count": 139,
   "metadata": {},
   "outputs": [],
   "source": [
    "my_df = pd.DataFrame(data=[4,5,6,7], index=[1,2,3,4], columns=['A'])\n",
    "\n",
    "\n"
   ]
  },
  {
   "cell_type": "code",
   "execution_count": 140,
   "metadata": {},
   "outputs": [
    {
     "output_type": "execute_result",
     "data": {
      "text/plain": [
       "   A\n",
       "1  4\n",
       "2  5\n",
       "3  6\n",
       "4  7"
      ],
      "text/html": "<div>\n<style scoped>\n    .dataframe tbody tr th:only-of-type {\n        vertical-align: middle;\n    }\n\n    .dataframe tbody tr th {\n        vertical-align: top;\n    }\n\n    .dataframe thead th {\n        text-align: right;\n    }\n</style>\n<table border=\"1\" class=\"dataframe\">\n  <thead>\n    <tr style=\"text-align: right;\">\n      <th></th>\n      <th>A</th>\n    </tr>\n  </thead>\n  <tbody>\n    <tr>\n      <th>1</th>\n      <td>4</td>\n    </tr>\n    <tr>\n      <th>2</th>\n      <td>5</td>\n    </tr>\n    <tr>\n      <th>3</th>\n      <td>6</td>\n    </tr>\n    <tr>\n      <th>4</th>\n      <td>7</td>\n    </tr>\n  </tbody>\n</table>\n</div>"
     },
     "metadata": {},
     "execution_count": 140
    }
   ],
   "source": [
    "my_df"
   ]
  },
  {
   "cell_type": "code",
   "execution_count": 149,
   "metadata": {},
   "outputs": [
    {
     "output_type": "execute_result",
     "data": {
      "text/plain": [
       "1"
      ]
     },
     "metadata": {},
     "execution_count": 149
    }
   ],
   "source": [
    "my_df.index[0]"
   ]
  },
  {
   "cell_type": "code",
   "execution_count": null,
   "metadata": {},
   "outputs": [],
   "source": []
  }
 ]
}